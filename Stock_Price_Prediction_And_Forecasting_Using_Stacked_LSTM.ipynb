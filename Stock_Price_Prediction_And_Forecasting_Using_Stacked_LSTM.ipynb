{
  "nbformat": 4,
  "nbformat_minor": 0,
  "metadata": {
    "colab": {
      "name": "Stock Price Prediction And Forecasting Using Stacked LSTM.ipynb",
      "provenance": []
    },
    "kernelspec": {
      "name": "python3",
      "display_name": "Python 3"
    },
    "language_info": {
      "name": "python"
    },
    "accelerator": "GPU"
  },
  "cells": [
    {
      "cell_type": "code",
      "metadata": {
        "id": "zHenBjeC5lVg"
      },
      "source": [
        "import pandas_datareader as pdr"
      ],
      "execution_count": 1,
      "outputs": []
    },
    {
      "cell_type": "code",
      "metadata": {
        "id": "SdrsVlCV-N6H"
      },
      "source": [
        "df = pdr.get_data_tiingo('AAPL', api_key='490b57af436351c29b5164048f1f1e7d901b85ce')"
      ],
      "execution_count": 2,
      "outputs": []
    },
    {
      "cell_type": "code",
      "metadata": {
        "id": "iZopswBK_lKn"
      },
      "source": [
        "df.to_csv('AAPL.csv')"
      ],
      "execution_count": 3,
      "outputs": []
    },
    {
      "cell_type": "code",
      "metadata": {
        "id": "0iLCNMwz_p3d"
      },
      "source": [
        "import pandas as pd"
      ],
      "execution_count": 4,
      "outputs": []
    },
    {
      "cell_type": "code",
      "metadata": {
        "id": "xvLOq9Xa_rm1"
      },
      "source": [
        "df = pd.read_csv('AAPL.csv')"
      ],
      "execution_count": 5,
      "outputs": []
    },
    {
      "cell_type": "code",
      "metadata": {
        "id": "HTgqFNTp_zPW"
      },
      "source": [
        "df1 = df.reset_index()['close']"
      ],
      "execution_count": 6,
      "outputs": []
    },
    {
      "cell_type": "code",
      "metadata": {
        "colab": {
          "base_uri": "https://localhost:8080/",
          "height": 204
        },
        "id": "cSGFkiMD_9df",
        "outputId": "ea109f14-4e1e-4e68-a763-09ff92988446"
      },
      "source": [
        "df.head()"
      ],
      "execution_count": 7,
      "outputs": [
        {
          "output_type": "execute_result",
          "data": {
            "text/html": [
              "<div>\n",
              "<style scoped>\n",
              "    .dataframe tbody tr th:only-of-type {\n",
              "        vertical-align: middle;\n",
              "    }\n",
              "\n",
              "    .dataframe tbody tr th {\n",
              "        vertical-align: top;\n",
              "    }\n",
              "\n",
              "    .dataframe thead th {\n",
              "        text-align: right;\n",
              "    }\n",
              "</style>\n",
              "<table border=\"1\" class=\"dataframe\">\n",
              "  <thead>\n",
              "    <tr style=\"text-align: right;\">\n",
              "      <th></th>\n",
              "      <th>symbol</th>\n",
              "      <th>date</th>\n",
              "      <th>close</th>\n",
              "      <th>high</th>\n",
              "      <th>low</th>\n",
              "      <th>open</th>\n",
              "      <th>volume</th>\n",
              "      <th>adjClose</th>\n",
              "      <th>adjHigh</th>\n",
              "      <th>adjLow</th>\n",
              "      <th>adjOpen</th>\n",
              "      <th>adjVolume</th>\n",
              "      <th>divCash</th>\n",
              "      <th>splitFactor</th>\n",
              "    </tr>\n",
              "  </thead>\n",
              "  <tbody>\n",
              "    <tr>\n",
              "      <th>0</th>\n",
              "      <td>AAPL</td>\n",
              "      <td>2016-07-25 00:00:00+00:00</td>\n",
              "      <td>97.34</td>\n",
              "      <td>98.84</td>\n",
              "      <td>96.92</td>\n",
              "      <td>98.250</td>\n",
              "      <td>40382921</td>\n",
              "      <td>22.730199</td>\n",
              "      <td>23.080469</td>\n",
              "      <td>22.632123</td>\n",
              "      <td>22.942696</td>\n",
              "      <td>161531684</td>\n",
              "      <td>0.0</td>\n",
              "      <td>1.0</td>\n",
              "    </tr>\n",
              "    <tr>\n",
              "      <th>1</th>\n",
              "      <td>AAPL</td>\n",
              "      <td>2016-07-26 00:00:00+00:00</td>\n",
              "      <td>96.67</td>\n",
              "      <td>97.97</td>\n",
              "      <td>96.42</td>\n",
              "      <td>96.820</td>\n",
              "      <td>56239822</td>\n",
              "      <td>22.573745</td>\n",
              "      <td>22.877312</td>\n",
              "      <td>22.515367</td>\n",
              "      <td>22.608772</td>\n",
              "      <td>224959288</td>\n",
              "      <td>0.0</td>\n",
              "      <td>1.0</td>\n",
              "    </tr>\n",
              "    <tr>\n",
              "      <th>2</th>\n",
              "      <td>AAPL</td>\n",
              "      <td>2016-07-27 00:00:00+00:00</td>\n",
              "      <td>102.95</td>\n",
              "      <td>104.35</td>\n",
              "      <td>102.75</td>\n",
              "      <td>104.265</td>\n",
              "      <td>92344820</td>\n",
              "      <td>24.040209</td>\n",
              "      <td>24.367128</td>\n",
              "      <td>23.993507</td>\n",
              "      <td>24.347280</td>\n",
              "      <td>369379280</td>\n",
              "      <td>0.0</td>\n",
              "      <td>1.0</td>\n",
              "    </tr>\n",
              "    <tr>\n",
              "      <th>3</th>\n",
              "      <td>AAPL</td>\n",
              "      <td>2016-07-28 00:00:00+00:00</td>\n",
              "      <td>104.34</td>\n",
              "      <td>104.45</td>\n",
              "      <td>102.82</td>\n",
              "      <td>102.830</td>\n",
              "      <td>39869839</td>\n",
              "      <td>24.364793</td>\n",
              "      <td>24.390480</td>\n",
              "      <td>24.009853</td>\n",
              "      <td>24.012188</td>\n",
              "      <td>159479356</td>\n",
              "      <td>0.0</td>\n",
              "      <td>1.0</td>\n",
              "    </tr>\n",
              "    <tr>\n",
              "      <th>4</th>\n",
              "      <td>AAPL</td>\n",
              "      <td>2016-07-29 00:00:00+00:00</td>\n",
              "      <td>104.21</td>\n",
              "      <td>104.55</td>\n",
              "      <td>103.68</td>\n",
              "      <td>104.190</td>\n",
              "      <td>27733688</td>\n",
              "      <td>24.334436</td>\n",
              "      <td>24.413831</td>\n",
              "      <td>24.210674</td>\n",
              "      <td>24.329766</td>\n",
              "      <td>110934752</td>\n",
              "      <td>0.0</td>\n",
              "      <td>1.0</td>\n",
              "    </tr>\n",
              "  </tbody>\n",
              "</table>\n",
              "</div>"
            ],
            "text/plain": [
              "  symbol                       date   close  ...  adjVolume  divCash  splitFactor\n",
              "0   AAPL  2016-07-25 00:00:00+00:00   97.34  ...  161531684      0.0          1.0\n",
              "1   AAPL  2016-07-26 00:00:00+00:00   96.67  ...  224959288      0.0          1.0\n",
              "2   AAPL  2016-07-27 00:00:00+00:00  102.95  ...  369379280      0.0          1.0\n",
              "3   AAPL  2016-07-28 00:00:00+00:00  104.34  ...  159479356      0.0          1.0\n",
              "4   AAPL  2016-07-29 00:00:00+00:00  104.21  ...  110934752      0.0          1.0\n",
              "\n",
              "[5 rows x 14 columns]"
            ]
          },
          "metadata": {
            "tags": []
          },
          "execution_count": 7
        }
      ]
    },
    {
      "cell_type": "code",
      "metadata": {
        "colab": {
          "base_uri": "https://localhost:8080/",
          "height": 204
        },
        "id": "EJYAek8RAI2g",
        "outputId": "676d6085-9dbf-4565-87de-a55be41f1752"
      },
      "source": [
        "df.tail()"
      ],
      "execution_count": 8,
      "outputs": [
        {
          "output_type": "execute_result",
          "data": {
            "text/html": [
              "<div>\n",
              "<style scoped>\n",
              "    .dataframe tbody tr th:only-of-type {\n",
              "        vertical-align: middle;\n",
              "    }\n",
              "\n",
              "    .dataframe tbody tr th {\n",
              "        vertical-align: top;\n",
              "    }\n",
              "\n",
              "    .dataframe thead th {\n",
              "        text-align: right;\n",
              "    }\n",
              "</style>\n",
              "<table border=\"1\" class=\"dataframe\">\n",
              "  <thead>\n",
              "    <tr style=\"text-align: right;\">\n",
              "      <th></th>\n",
              "      <th>symbol</th>\n",
              "      <th>date</th>\n",
              "      <th>close</th>\n",
              "      <th>high</th>\n",
              "      <th>low</th>\n",
              "      <th>open</th>\n",
              "      <th>volume</th>\n",
              "      <th>adjClose</th>\n",
              "      <th>adjHigh</th>\n",
              "      <th>adjLow</th>\n",
              "      <th>adjOpen</th>\n",
              "      <th>adjVolume</th>\n",
              "      <th>divCash</th>\n",
              "      <th>splitFactor</th>\n",
              "    </tr>\n",
              "  </thead>\n",
              "  <tbody>\n",
              "    <tr>\n",
              "      <th>1254</th>\n",
              "      <td>AAPL</td>\n",
              "      <td>2021-07-19 00:00:00+00:00</td>\n",
              "      <td>142.45</td>\n",
              "      <td>144.0700</td>\n",
              "      <td>141.67</td>\n",
              "      <td>143.750</td>\n",
              "      <td>121434571</td>\n",
              "      <td>142.45</td>\n",
              "      <td>144.0700</td>\n",
              "      <td>141.67</td>\n",
              "      <td>143.750</td>\n",
              "      <td>121434571</td>\n",
              "      <td>0.0</td>\n",
              "      <td>1.0</td>\n",
              "    </tr>\n",
              "    <tr>\n",
              "      <th>1255</th>\n",
              "      <td>AAPL</td>\n",
              "      <td>2021-07-20 00:00:00+00:00</td>\n",
              "      <td>146.15</td>\n",
              "      <td>147.0997</td>\n",
              "      <td>142.96</td>\n",
              "      <td>143.460</td>\n",
              "      <td>96350036</td>\n",
              "      <td>146.15</td>\n",
              "      <td>147.0997</td>\n",
              "      <td>142.96</td>\n",
              "      <td>143.460</td>\n",
              "      <td>96350036</td>\n",
              "      <td>0.0</td>\n",
              "      <td>1.0</td>\n",
              "    </tr>\n",
              "    <tr>\n",
              "      <th>1256</th>\n",
              "      <td>AAPL</td>\n",
              "      <td>2021-07-21 00:00:00+00:00</td>\n",
              "      <td>145.40</td>\n",
              "      <td>146.1300</td>\n",
              "      <td>144.63</td>\n",
              "      <td>145.530</td>\n",
              "      <td>74993460</td>\n",
              "      <td>145.40</td>\n",
              "      <td>146.1300</td>\n",
              "      <td>144.63</td>\n",
              "      <td>145.530</td>\n",
              "      <td>74993460</td>\n",
              "      <td>0.0</td>\n",
              "      <td>1.0</td>\n",
              "    </tr>\n",
              "    <tr>\n",
              "      <th>1257</th>\n",
              "      <td>AAPL</td>\n",
              "      <td>2021-07-22 00:00:00+00:00</td>\n",
              "      <td>146.80</td>\n",
              "      <td>148.1950</td>\n",
              "      <td>145.81</td>\n",
              "      <td>145.935</td>\n",
              "      <td>77338156</td>\n",
              "      <td>146.80</td>\n",
              "      <td>148.1950</td>\n",
              "      <td>145.81</td>\n",
              "      <td>145.935</td>\n",
              "      <td>77338156</td>\n",
              "      <td>0.0</td>\n",
              "      <td>1.0</td>\n",
              "    </tr>\n",
              "    <tr>\n",
              "      <th>1258</th>\n",
              "      <td>AAPL</td>\n",
              "      <td>2021-07-23 00:00:00+00:00</td>\n",
              "      <td>148.56</td>\n",
              "      <td>148.7177</td>\n",
              "      <td>146.92</td>\n",
              "      <td>147.550</td>\n",
              "      <td>71447416</td>\n",
              "      <td>148.56</td>\n",
              "      <td>148.7177</td>\n",
              "      <td>146.92</td>\n",
              "      <td>147.550</td>\n",
              "      <td>71447416</td>\n",
              "      <td>0.0</td>\n",
              "      <td>1.0</td>\n",
              "    </tr>\n",
              "  </tbody>\n",
              "</table>\n",
              "</div>"
            ],
            "text/plain": [
              "     symbol                       date   close  ...  adjVolume  divCash  splitFactor\n",
              "1254   AAPL  2021-07-19 00:00:00+00:00  142.45  ...  121434571      0.0          1.0\n",
              "1255   AAPL  2021-07-20 00:00:00+00:00  146.15  ...   96350036      0.0          1.0\n",
              "1256   AAPL  2021-07-21 00:00:00+00:00  145.40  ...   74993460      0.0          1.0\n",
              "1257   AAPL  2021-07-22 00:00:00+00:00  146.80  ...   77338156      0.0          1.0\n",
              "1258   AAPL  2021-07-23 00:00:00+00:00  148.56  ...   71447416      0.0          1.0\n",
              "\n",
              "[5 rows x 14 columns]"
            ]
          },
          "metadata": {
            "tags": []
          },
          "execution_count": 8
        }
      ]
    },
    {
      "cell_type": "code",
      "metadata": {
        "colab": {
          "base_uri": "https://localhost:8080/"
        },
        "id": "cbd70W25AQPx",
        "outputId": "49b31680-7510-4913-f6fe-3ec3d2cc0651"
      },
      "source": [
        "df1.shape"
      ],
      "execution_count": 9,
      "outputs": [
        {
          "output_type": "execute_result",
          "data": {
            "text/plain": [
              "(1259,)"
            ]
          },
          "metadata": {
            "tags": []
          },
          "execution_count": 9
        }
      ]
    },
    {
      "cell_type": "code",
      "metadata": {
        "colab": {
          "base_uri": "https://localhost:8080/",
          "height": 282
        },
        "id": "CmB36SiBAiay",
        "outputId": "e2a59a4f-c3cc-41e8-824b-889ce1a50750"
      },
      "source": [
        "import matplotlib.pyplot as plt\n",
        "plt.plot(df1)"
      ],
      "execution_count": 10,
      "outputs": [
        {
          "output_type": "execute_result",
          "data": {
            "text/plain": [
              "[<matplotlib.lines.Line2D at 0x7ff8e4d78c10>]"
            ]
          },
          "metadata": {
            "tags": []
          },
          "execution_count": 10
        },
        {
          "output_type": "display_data",
          "data": {
            "image/png": "[encoded data removed]",
            "text/plain": [
              "<Figure size 432x288 with 1 Axes>"
            ]
          },
          "metadata": {
            "tags": [],
            "needs_background": "light"
          }
        }
      ]
    },
    {
      "cell_type": "code",
      "metadata": {
        "id": "CeGc8NlNAo6z"
      },
      "source": [
        "import numpy as np"
      ],
      "execution_count": 11,
      "outputs": []
    },
    {
      "cell_type": "code",
      "metadata": {
        "id": "hwdy6KV6QOsA"
      },
      "source": [
        "from sklearn.preprocessing import MinMaxScaler\n",
        "scaler = MinMaxScaler(feature_range=(0,1))\n",
        "df1 = scaler.fit_transform(np.array(df1).reshape(-1,1))"
      ],
      "execution_count": 12,
      "outputs": []
    },
    {
      "cell_type": "code",
      "metadata": {
        "colab": {
          "base_uri": "https://localhost:8080/"
        },
        "id": "SsYqgplAQ3yL",
        "outputId": "985ddaf7-0c5e-41a2-afcc-d9a50e9de127"
      },
      "source": [
        "df1.shape"
      ],
      "execution_count": 13,
      "outputs": [
        {
          "output_type": "execute_result",
          "data": {
            "text/plain": [
              "(1259, 1)"
            ]
          },
          "metadata": {
            "tags": []
          },
          "execution_count": 13
        }
      ]
    },
    {
      "cell_type": "code",
      "metadata": {
        "colab": {
          "base_uri": "https://localhost:8080/"
        },
        "id": "UUsD5_FyQ5P7",
        "outputId": "23db13cd-15b6-4a3d-994d-9a31c1a715be"
      },
      "source": [
        "df1"
      ],
      "execution_count": 14,
      "outputs": [
        {
          "output_type": "execute_result",
          "data": {
            "text/plain": [
              "array([[0.00163646],\n",
              "       [0.        ],\n",
              "       [0.01533877],\n",
              "       ...,\n",
              "       [0.11902203],\n",
              "       [0.1224415 ],\n",
              "       [0.12674027]])"
            ]
          },
          "metadata": {
            "tags": []
          },
          "execution_count": 14
        }
      ]
    },
    {
      "cell_type": "code",
      "metadata": {
        "colab": {
          "base_uri": "https://localhost:8080/"
        },
        "id": "6QZwhLxnRC-L",
        "outputId": "c1f78bd3-349c-4ba0-c894-6540128e34dd"
      },
      "source": [
        "training_size = int(len(df1)*0.65)\n",
        "test_size = int(len(df1)-training_size)\n",
        "train_data,test_data = df1[0:training_size,:], df1[training_size:len(df1),:1]\n",
        "len(train_data),len(test_data)"
      ],
      "execution_count": 15,
      "outputs": [
        {
          "output_type": "execute_result",
          "data": {
            "text/plain": [
              "(818, 441)"
            ]
          },
          "metadata": {
            "tags": []
          },
          "execution_count": 15
        }
      ]
    },
    {
      "cell_type": "code",
      "metadata": {
        "colab": {
          "base_uri": "https://localhost:8080/"
        },
        "id": "8numkhyptun9",
        "outputId": "f9c5a204-b1e1-4c8b-bd73-0ac3e19e2d16"
      },
      "source": [
        "len(df1)"
      ],
      "execution_count": 16,
      "outputs": [
        {
          "output_type": "execute_result",
          "data": {
            "text/plain": [
              "1259"
            ]
          },
          "metadata": {
            "tags": []
          },
          "execution_count": 16
        }
      ]
    },
    {
      "cell_type": "code",
      "metadata": {
        "id": "eWGSNIQWuTfe"
      },
      "source": [
        "import numpy as np\n",
        "def create_dataset(dataset, time_step=1):\n",
        "  data_x,data_y = [], []\n",
        "  for i in range(len(dataset)-time_step-1):\n",
        "    a = dataset[i:(i+time_step),0]\n",
        "    data_x.append(a)\n",
        "    data_y.append(dataset[i+time_step, 0])\n",
        "  return np.array(data_x), np.array(data_y)"
      ],
      "execution_count": 17,
      "outputs": []
    },
    {
      "cell_type": "code",
      "metadata": {
        "id": "OJPDMwBfyy03"
      },
      "source": [
        "time_step = 100\n",
        "x_train, y_train = create_dataset(train_data, time_step)\n",
        "x_test,y_test = create_dataset(test_data, time_step)"
      ],
      "execution_count": 18,
      "outputs": []
    },
    {
      "cell_type": "code",
      "metadata": {
        "colab": {
          "base_uri": "https://localhost:8080/"
        },
        "id": "-sSgL9WG5NrQ",
        "outputId": "e874ce32-9815-4004-baa3-96f8a10a3d25"
      },
      "source": [
        "x_train.shape, y_train.shape"
      ],
      "execution_count": 19,
      "outputs": [
        {
          "output_type": "execute_result",
          "data": {
            "text/plain": [
              "((717, 100), (717,))"
            ]
          },
          "metadata": {
            "tags": []
          },
          "execution_count": 19
        }
      ]
    },
    {
      "cell_type": "code",
      "metadata": {
        "colab": {
          "base_uri": "https://localhost:8080/"
        },
        "id": "HpaW3jEh6NaE",
        "outputId": "9f64013f-71ab-4045-fd43-af74f58d0efa"
      },
      "source": [
        "x_test.shape, y_test.shape"
      ],
      "execution_count": 20,
      "outputs": [
        {
          "output_type": "execute_result",
          "data": {
            "text/plain": [
              "((340, 100), (340,))"
            ]
          },
          "metadata": {
            "tags": []
          },
          "execution_count": 20
        }
      ]
    },
    {
      "cell_type": "code",
      "metadata": {
        "id": "jaHv049y6VvL"
      },
      "source": [
        "x_train = x_train.reshape(x_train.shape[0], x_train.shape[1], 1)\n",
        "x_test = x_test.reshape(x_test.shape[0], x_test.shape[1], 1)\n"
      ],
      "execution_count": 21,
      "outputs": []
    },
    {
      "cell_type": "code",
      "metadata": {
        "id": "1ljdIqt87EzW"
      },
      "source": [
        "from tensorflow.keras.models import Sequential\n",
        "from tensorflow.keras.layers import LSTM,Dense"
      ],
      "execution_count": 22,
      "outputs": []
    },
    {
      "cell_type": "code",
      "metadata": {
        "id": "tDaVbnoo7XLw"
      },
      "source": [
        "model = Sequential()\n",
        "model.add(LSTM(50, return_sequences=True, input_shape=(100,1)))\n",
        "model.add(LSTM(50, return_sequences=True))\n",
        "model.add(LSTM(50))\n",
        "model.add(Dense(1))\n",
        "model.compile(loss='mean_squared_error', optimizer='adam')"
      ],
      "execution_count": 23,
      "outputs": []
    },
    {
      "cell_type": "code",
      "metadata": {
        "colab": {
          "base_uri": "https://localhost:8080/"
        },
        "id": "iMrkCnnq7g2w",
        "outputId": "992ab691-161e-47ed-a626-75b04f036b67"
      },
      "source": [
        "model.summary()"
      ],
      "execution_count": 24,
      "outputs": [
        {
          "output_type": "stream",
          "text": [
            "Model: \"sequential\"\n",
            "_________________________________________________________________\n",
            "Layer (type)                 Output Shape              Param #   \n",
            "=================================================================\n",
            "lstm (LSTM)                  (None, 100, 50)           10400     \n",
            "_________________________________________________________________\n",
            "lstm_1 (LSTM)                (None, 100, 50)           20200     \n",
            "_________________________________________________________________\n",
            "lstm_2 (LSTM)                (None, 50)                20200     \n",
            "_________________________________________________________________\n",
            "dense (Dense)                (None, 1)                 51        \n",
            "=================================================================\n",
            "Total params: 50,851\n",
            "Trainable params: 50,851\n",
            "Non-trainable params: 0\n",
            "_________________________________________________________________\n"
          ],
          "name": "stdout"
        }
      ]
    },
    {
      "cell_type": "code",
      "metadata": {
        "colab": {
          "base_uri": "https://localhost:8080/"
        },
        "id": "17GZHY7a8kgl",
        "outputId": "91f014df-3fe3-4f24-b41a-6c1805392ffb"
      },
      "source": [
        "model.fit(x_train,y_train, validation_data=(x_test, y_test), epochs=100, batch_size= 64, verbose=1)"
      ],
      "execution_count": 25,
      "outputs": [
        {
          "output_type": "stream",
          "text": [
            "Epoch 1/100\n",
            "12/12 [==============================] - 11s 109ms/step - loss: 0.0086 - val_loss: 0.0365\n",
            "Epoch 2/100\n",
            "12/12 [==============================] - 0s 22ms/step - loss: 0.0019 - val_loss: 0.0242\n",
            "Epoch 3/100\n",
            "12/12 [==============================] - 0s 18ms/step - loss: 9.7267e-04 - val_loss: 0.0220\n",
            "Epoch 4/100\n",
            "12/12 [==============================] - 0s 19ms/step - loss: 6.3621e-04 - val_loss: 0.0204\n",
            "Epoch 5/100\n",
            "12/12 [==============================] - 0s 18ms/step - loss: 5.0602e-04 - val_loss: 0.0195\n",
            "Epoch 6/100\n",
            "12/12 [==============================] - 0s 18ms/step - loss: 4.2988e-04 - val_loss: 0.0192\n",
            "Epoch 7/100\n",
            "12/12 [==============================] - 0s 18ms/step - loss: 4.2598e-04 - val_loss: 0.0188\n",
            "Epoch 8/100\n",
            "12/12 [==============================] - 0s 19ms/step - loss: 4.2342e-04 - val_loss: 0.0184\n",
            "Epoch 9/100\n",
            "12/12 [==============================] - 0s 19ms/step - loss: 4.0968e-04 - val_loss: 0.0180\n",
            "Epoch 10/100\n",
            "12/12 [==============================] - 0s 18ms/step - loss: 3.7935e-04 - val_loss: 0.0175\n",
            "Epoch 11/100\n",
            "12/12 [==============================] - 0s 18ms/step - loss: 3.7626e-04 - val_loss: 0.0174\n",
            "Epoch 12/100\n",
            "12/12 [==============================] - 0s 18ms/step - loss: 3.6427e-04 - val_loss: 0.0167\n",
            "Epoch 13/100\n",
            "12/12 [==============================] - 0s 31ms/step - loss: 3.4449e-04 - val_loss: 0.0161\n",
            "Epoch 14/100\n",
            "12/12 [==============================] - 0s 18ms/step - loss: 3.3798e-04 - val_loss: 0.0157\n",
            "Epoch 15/100\n",
            "12/12 [==============================] - 0s 18ms/step - loss: 3.1362e-04 - val_loss: 0.0153\n",
            "Epoch 16/100\n",
            "12/12 [==============================] - 0s 19ms/step - loss: 3.2891e-04 - val_loss: 0.0150\n",
            "Epoch 17/100\n",
            "12/12 [==============================] - 0s 19ms/step - loss: 3.0355e-04 - val_loss: 0.0150\n",
            "Epoch 18/100\n",
            "12/12 [==============================] - 0s 18ms/step - loss: 2.8722e-04 - val_loss: 0.0148\n",
            "Epoch 19/100\n",
            "12/12 [==============================] - 0s 18ms/step - loss: 2.7870e-04 - val_loss: 0.0151\n",
            "Epoch 20/100\n",
            "12/12 [==============================] - 0s 18ms/step - loss: 2.8277e-04 - val_loss: 0.0149\n",
            "Epoch 21/100\n",
            "12/12 [==============================] - 0s 19ms/step - loss: 2.6363e-04 - val_loss: 0.0152\n",
            "Epoch 22/100\n",
            "12/12 [==============================] - 0s 19ms/step - loss: 3.0401e-04 - val_loss: 0.0145\n",
            "Epoch 23/100\n",
            "12/12 [==============================] - 0s 18ms/step - loss: 2.7815e-04 - val_loss: 0.0142\n",
            "Epoch 24/100\n",
            "12/12 [==============================] - 0s 18ms/step - loss: 2.5523e-04 - val_loss: 0.0142\n",
            "Epoch 25/100\n",
            "12/12 [==============================] - 0s 18ms/step - loss: 2.4137e-04 - val_loss: 0.0143\n",
            "Epoch 26/100\n",
            "12/12 [==============================] - 0s 19ms/step - loss: 2.3373e-04 - val_loss: 0.0143\n",
            "Epoch 27/100\n",
            "12/12 [==============================] - 0s 18ms/step - loss: 2.2886e-04 - val_loss: 0.0142\n",
            "Epoch 28/100\n",
            "12/12 [==============================] - 0s 18ms/step - loss: 2.3323e-04 - val_loss: 0.0143\n",
            "Epoch 29/100\n",
            "12/12 [==============================] - 0s 19ms/step - loss: 2.5161e-04 - val_loss: 0.0144\n",
            "Epoch 30/100\n",
            "12/12 [==============================] - 0s 18ms/step - loss: 2.3082e-04 - val_loss: 0.0139\n",
            "Epoch 31/100\n",
            "12/12 [==============================] - 0s 20ms/step - loss: 2.1977e-04 - val_loss: 0.0143\n",
            "Epoch 32/100\n",
            "12/12 [==============================] - 0s 18ms/step - loss: 2.6244e-04 - val_loss: 0.0139\n",
            "Epoch 33/100\n",
            "12/12 [==============================] - 0s 18ms/step - loss: 2.5930e-04 - val_loss: 0.0139\n",
            "Epoch 34/100\n",
            "12/12 [==============================] - 0s 18ms/step - loss: 2.6320e-04 - val_loss: 0.0139\n",
            "Epoch 35/100\n",
            "12/12 [==============================] - 0s 19ms/step - loss: 2.1257e-04 - val_loss: 0.0135\n",
            "Epoch 36/100\n",
            "12/12 [==============================] - 0s 18ms/step - loss: 2.0331e-04 - val_loss: 0.0139\n",
            "Epoch 37/100\n",
            "12/12 [==============================] - 0s 18ms/step - loss: 2.0795e-04 - val_loss: 0.0138\n",
            "Epoch 38/100\n",
            "12/12 [==============================] - 0s 19ms/step - loss: 2.0518e-04 - val_loss: 0.0134\n",
            "Epoch 39/100\n",
            "12/12 [==============================] - 0s 18ms/step - loss: 2.1070e-04 - val_loss: 0.0133\n",
            "Epoch 40/100\n",
            "12/12 [==============================] - 0s 19ms/step - loss: 2.1832e-04 - val_loss: 0.0131\n",
            "Epoch 41/100\n",
            "12/12 [==============================] - 0s 18ms/step - loss: 2.4777e-04 - val_loss: 0.0129\n",
            "Epoch 42/100\n",
            "12/12 [==============================] - 0s 18ms/step - loss: 2.0574e-04 - val_loss: 0.0129\n",
            "Epoch 43/100\n",
            "12/12 [==============================] - 0s 18ms/step - loss: 1.9790e-04 - val_loss: 0.0128\n",
            "Epoch 44/100\n",
            "12/12 [==============================] - 0s 18ms/step - loss: 1.8397e-04 - val_loss: 0.0127\n",
            "Epoch 45/100\n",
            "12/12 [==============================] - 0s 18ms/step - loss: 1.8424e-04 - val_loss: 0.0130\n",
            "Epoch 46/100\n",
            "12/12 [==============================] - 0s 18ms/step - loss: 1.7892e-04 - val_loss: 0.0133\n",
            "Epoch 47/100\n",
            "12/12 [==============================] - 0s 18ms/step - loss: 1.9441e-04 - val_loss: 0.0120\n",
            "Epoch 48/100\n",
            "12/12 [==============================] - 0s 18ms/step - loss: 1.7983e-04 - val_loss: 0.0120\n",
            "Epoch 49/100\n",
            "12/12 [==============================] - 0s 19ms/step - loss: 1.7673e-04 - val_loss: 0.0119\n",
            "Epoch 50/100\n",
            "12/12 [==============================] - 0s 18ms/step - loss: 1.8583e-04 - val_loss: 0.0113\n",
            "Epoch 51/100\n",
            "12/12 [==============================] - 0s 18ms/step - loss: 1.6897e-04 - val_loss: 0.0113\n",
            "Epoch 52/100\n",
            "12/12 [==============================] - 0s 18ms/step - loss: 1.7186e-04 - val_loss: 0.0111\n",
            "Epoch 53/100\n",
            "12/12 [==============================] - 0s 19ms/step - loss: 1.7513e-04 - val_loss: 0.0116\n",
            "Epoch 54/100\n",
            "12/12 [==============================] - 0s 20ms/step - loss: 1.9588e-04 - val_loss: 0.0099\n",
            "Epoch 55/100\n",
            "12/12 [==============================] - 0s 18ms/step - loss: 1.9700e-04 - val_loss: 0.0099\n",
            "Epoch 56/100\n",
            "12/12 [==============================] - 0s 19ms/step - loss: 1.7499e-04 - val_loss: 0.0097\n",
            "Epoch 57/100\n",
            "12/12 [==============================] - 0s 19ms/step - loss: 1.6559e-04 - val_loss: 0.0096\n",
            "Epoch 58/100\n",
            "12/12 [==============================] - 0s 19ms/step - loss: 1.5231e-04 - val_loss: 0.0095\n",
            "Epoch 59/100\n",
            "12/12 [==============================] - 0s 19ms/step - loss: 1.5154e-04 - val_loss: 0.0097\n",
            "Epoch 60/100\n",
            "12/12 [==============================] - 0s 18ms/step - loss: 1.5753e-04 - val_loss: 0.0086\n",
            "Epoch 61/100\n",
            "12/12 [==============================] - 0s 18ms/step - loss: 1.8200e-04 - val_loss: 0.0083\n",
            "Epoch 62/100\n",
            "12/12 [==============================] - 0s 18ms/step - loss: 1.5662e-04 - val_loss: 0.0081\n",
            "Epoch 63/100\n",
            "12/12 [==============================] - 0s 20ms/step - loss: 1.5042e-04 - val_loss: 0.0082\n",
            "Epoch 64/100\n",
            "12/12 [==============================] - 0s 18ms/step - loss: 1.4777e-04 - val_loss: 0.0077\n",
            "Epoch 65/100\n",
            "12/12 [==============================] - 0s 19ms/step - loss: 1.3957e-04 - val_loss: 0.0074\n",
            "Epoch 66/100\n",
            "12/12 [==============================] - 0s 18ms/step - loss: 1.5602e-04 - val_loss: 0.0072\n",
            "Epoch 67/100\n",
            "12/12 [==============================] - 0s 19ms/step - loss: 1.7143e-04 - val_loss: 0.0073\n",
            "Epoch 68/100\n",
            "12/12 [==============================] - 0s 18ms/step - loss: 1.6022e-04 - val_loss: 0.0073\n",
            "Epoch 69/100\n",
            "12/12 [==============================] - 0s 18ms/step - loss: 1.5971e-04 - val_loss: 0.0075\n",
            "Epoch 70/100\n",
            "12/12 [==============================] - 0s 18ms/step - loss: 1.3545e-04 - val_loss: 0.0069\n",
            "Epoch 71/100\n",
            "12/12 [==============================] - 0s 18ms/step - loss: 1.3341e-04 - val_loss: 0.0066\n",
            "Epoch 72/100\n",
            "12/12 [==============================] - 0s 19ms/step - loss: 1.3645e-04 - val_loss: 0.0066\n",
            "Epoch 73/100\n",
            "12/12 [==============================] - 0s 18ms/step - loss: 1.4619e-04 - val_loss: 0.0070\n",
            "Epoch 74/100\n",
            "12/12 [==============================] - 0s 19ms/step - loss: 1.4990e-04 - val_loss: 0.0062\n",
            "Epoch 75/100\n",
            "12/12 [==============================] - 0s 19ms/step - loss: 1.3697e-04 - val_loss: 0.0080\n",
            "Epoch 76/100\n",
            "12/12 [==============================] - 0s 18ms/step - loss: 1.4458e-04 - val_loss: 0.0060\n",
            "Epoch 77/100\n",
            "12/12 [==============================] - 0s 18ms/step - loss: 1.3133e-04 - val_loss: 0.0067\n",
            "Epoch 78/100\n",
            "12/12 [==============================] - 0s 18ms/step - loss: 1.2010e-04 - val_loss: 0.0060\n",
            "Epoch 79/100\n",
            "12/12 [==============================] - 0s 18ms/step - loss: 1.1590e-04 - val_loss: 0.0061\n",
            "Epoch 80/100\n",
            "12/12 [==============================] - 0s 19ms/step - loss: 1.2855e-04 - val_loss: 0.0064\n",
            "Epoch 81/100\n",
            "12/12 [==============================] - 0s 19ms/step - loss: 1.1175e-04 - val_loss: 0.0057\n",
            "Epoch 82/100\n",
            "12/12 [==============================] - 0s 20ms/step - loss: 1.2313e-04 - val_loss: 0.0062\n",
            "Epoch 83/100\n",
            "12/12 [==============================] - 0s 19ms/step - loss: 1.1387e-04 - val_loss: 0.0060\n",
            "Epoch 84/100\n",
            "12/12 [==============================] - 0s 18ms/step - loss: 1.0785e-04 - val_loss: 0.0057\n",
            "Epoch 85/100\n",
            "12/12 [==============================] - 0s 18ms/step - loss: 1.1393e-04 - val_loss: 0.0064\n",
            "Epoch 86/100\n",
            "12/12 [==============================] - 0s 19ms/step - loss: 1.1413e-04 - val_loss: 0.0055\n",
            "Epoch 87/100\n",
            "12/12 [==============================] - 0s 18ms/step - loss: 1.1612e-04 - val_loss: 0.0055\n",
            "Epoch 88/100\n",
            "12/12 [==============================] - 0s 19ms/step - loss: 1.0682e-04 - val_loss: 0.0061\n",
            "Epoch 89/100\n",
            "12/12 [==============================] - 0s 18ms/step - loss: 1.0681e-04 - val_loss: 0.0056\n",
            "Epoch 90/100\n",
            "12/12 [==============================] - 0s 18ms/step - loss: 1.0514e-04 - val_loss: 0.0053\n",
            "Epoch 91/100\n",
            "12/12 [==============================] - 0s 18ms/step - loss: 1.1079e-04 - val_loss: 0.0055\n",
            "Epoch 92/100\n",
            "12/12 [==============================] - 0s 18ms/step - loss: 1.0679e-04 - val_loss: 0.0056\n",
            "Epoch 93/100\n",
            "12/12 [==============================] - 0s 17ms/step - loss: 1.0273e-04 - val_loss: 0.0057\n",
            "Epoch 94/100\n",
            "12/12 [==============================] - 0s 19ms/step - loss: 1.0583e-04 - val_loss: 0.0052\n",
            "Epoch 95/100\n",
            "12/12 [==============================] - 0s 18ms/step - loss: 1.0133e-04 - val_loss: 0.0055\n",
            "Epoch 96/100\n",
            "12/12 [==============================] - 0s 18ms/step - loss: 9.8372e-05 - val_loss: 0.0053\n",
            "Epoch 97/100\n",
            "12/12 [==============================] - 0s 19ms/step - loss: 9.5291e-05 - val_loss: 0.0050\n",
            "Epoch 98/100\n",
            "12/12 [==============================] - 0s 19ms/step - loss: 1.0052e-04 - val_loss: 0.0053\n",
            "Epoch 99/100\n",
            "12/12 [==============================] - 0s 19ms/step - loss: 9.4216e-05 - val_loss: 0.0056\n",
            "Epoch 100/100\n",
            "12/12 [==============================] - 0s 18ms/step - loss: 1.0369e-04 - val_loss: 0.0050\n"
          ],
          "name": "stdout"
        },
        {
          "output_type": "execute_result",
          "data": {
            "text/plain": [
              "<tensorflow.python.keras.callbacks.History at 0x7ff839e5b510>"
            ]
          },
          "metadata": {
            "tags": []
          },
          "execution_count": 25
        }
      ]
    },
    {
      "cell_type": "code",
      "metadata": {
        "id": "ssIkArhIAK7T"
      },
      "source": [
        "train_predict= model.predict(x_train)\n",
        "test_predict = model.predict(x_test)"
      ],
      "execution_count": 27,
      "outputs": []
    },
    {
      "cell_type": "code",
      "metadata": {
        "id": "NSnCZ1sBDX3D"
      },
      "source": [
        "train_predict = scaler.inverse_transform(train_predict)\n",
        "test_predict = scaler.inverse_transform(test_predict)"
      ],
      "execution_count": 32,
      "outputs": []
    },
    {
      "cell_type": "code",
      "metadata": {
        "colab": {
          "base_uri": "https://localhost:8080/"
        },
        "id": "fMcnaa4-ETdC",
        "outputId": "b546543f-8e9d-4e42-9dfe-523d0aef02ec"
      },
      "source": [
        "import math\n",
        "from sklearn.metrics import mean_squared_error\n",
        "math.sqrt(mean_squared_error(y_train,train_predict))"
      ],
      "execution_count": 34,
      "outputs": [
        {
          "output_type": "execute_result",
          "data": {
            "text/plain": [
              "177.86488491069133"
            ]
          },
          "metadata": {
            "tags": []
          },
          "execution_count": 34
        }
      ]
    },
    {
      "cell_type": "code",
      "metadata": {
        "colab": {
          "base_uri": "https://localhost:8080/"
        },
        "id": "S2TeKE3PEpxh",
        "outputId": "1685af0f-66db-4db5-85f0-2e5503f7e28d"
      },
      "source": [
        "math.sqrt(mean_squared_error(y_test,test_predict))"
      ],
      "execution_count": 35,
      "outputs": [
        {
          "output_type": "execute_result",
          "data": {
            "text/plain": [
              "221.2983835327751"
            ]
          },
          "metadata": {
            "tags": []
          },
          "execution_count": 35
        }
      ]
    },
    {
      "cell_type": "code",
      "metadata": {
        "colab": {
          "base_uri": "https://localhost:8080/",
          "height": 265
        },
        "id": "ghb0aSn19ewC",
        "outputId": "e5425b11-71ce-450f-b696-4e0858e83d91"
      },
      "source": [
        "look_back = 100\n",
        "train_predict_plot = np.empty_like(df1)\n",
        "train_predict_plot[:,:] = np.nan\n",
        "train_predict_plot[look_back: len(train_predict)+look_back, :] = train_predict\n",
        "\n",
        "test_predict_plot = np.empty_like(df1)\n",
        "test_predict_plot[:,:] = np.nan\n",
        "test_predict_plot[len(train_predict)+(look_back*2)+1: len(df1)-1, :] = test_predict\n",
        "\n",
        "plt.plot(scaler.inverse_transform(df1))\n",
        "plt.plot(train_predict_plot)\n",
        "plt.plot(test_predict_plot)\n",
        "plt.show()"
      ],
      "execution_count": 33,
      "outputs": [
        {
          "output_type": "display_data",
          "data": {
            "image/png": "[encoded data removed]",
            "text/plain": [
              "<Figure size 432x288 with 1 Axes>"
            ]
          },
          "metadata": {
            "tags": [],
            "needs_background": "light"
          }
        }
      ]
    },
    {
      "cell_type": "code",
      "metadata": {
        "colab": {
          "base_uri": "https://localhost:8080/"
        },
        "id": "dtZzt0lxCdRl",
        "outputId": "9b5c908c-e52c-4c14-c5a4-921eaf53916f"
      },
      "source": [
        "len(test_data)"
      ],
      "execution_count": 55,
      "outputs": [
        {
          "output_type": "execute_result",
          "data": {
            "text/plain": [
              "441"
            ]
          },
          "metadata": {
            "tags": []
          },
          "execution_count": 55
        }
      ]
    },
    {
      "cell_type": "code",
      "metadata": {
        "colab": {
          "base_uri": "https://localhost:8080/"
        },
        "id": "zCD-dz0BFbcJ",
        "outputId": "207ed413-53a5-40e8-f907-ae00cf9c6c3f"
      },
      "source": [
        "x_input = test_data[341:].reshape(1,-1)\n",
        "x_input.shape"
      ],
      "execution_count": 60,
      "outputs": [
        {
          "output_type": "execute_result",
          "data": {
            "text/plain": [
              "(1, 100)"
            ]
          },
          "metadata": {
            "tags": []
          },
          "execution_count": 60
        }
      ]
    },
    {
      "cell_type": "code",
      "metadata": {
        "colab": {
          "base_uri": "https://localhost:8080/"
        },
        "id": "yRxiUSh7FmQ8",
        "outputId": "3e31ca26-b82d-4d14-a3d1-c7f1e767ffb7"
      },
      "source": [
        "temp_input = list(x_input)\n",
        "temp_input = temp_input[0].tolist()\n",
        "temp_input"
      ],
      "execution_count": 61,
      "outputs": [
        {
          "output_type": "execute_result",
          "data": {
            "text/plain": [
              "[0.06201455717844756,\n",
              " 0.05730057154022761,\n",
              " 0.060451370231058565,\n",
              " 0.048092423428264364,\n",
              " 0.05963313956328464,\n",
              " 0.056934199599433355,\n",
              " 0.061770309217917985,\n",
              " 0.0594988031849934,\n",
              " 0.06672854281666746,\n",
              " 0.07058766059303401,\n",
              " 0.06860925211274488,\n",
              " 0.05827756338234574,\n",
              " 0.05695862439548627,\n",
              " 0.06526305505349028,\n",
              " 0.06318694738898933,\n",
              " 0.057202872356015844,\n",
              " 0.0584241121586635,\n",
              " 0.05993844951394656,\n",
              " 0.060378095842899715,\n",
              " 0.05673880123100972,\n",
              " 0.06223438034292417,\n",
              " 0.06431048800742512,\n",
              " 0.07139367886278153,\n",
              " 0.072150847540423,\n",
              " 0.0762786380733721,\n",
              " 0.08228713790239855,\n",
              " 0.0887230716623516,\n",
              " 0.08443651995505841,\n",
              " 0.09222802989595041,\n",
              " 0.08636607884324166,\n",
              " 0.09239900346832103,\n",
              " 0.09156856040252065,\n",
              " 0.09322944653412146,\n",
              " 0.0890039568169606,\n",
              " 0.08995652386302572,\n",
              " 0.0861462556787651,\n",
              " 0.09195935713936787,\n",
              " 0.092936348981486,\n",
              " 0.09213033071173854,\n",
              " 0.09015192223144941,\n",
              " 0.08990767427091984,\n",
              " 0.08497386546822339,\n",
              " 0.08761174344194222,\n",
              " 0.07615651409310731,\n",
              " 0.07676713399443114,\n",
              " 0.08077280054711544,\n",
              " 0.08192076596160425,\n",
              " 0.073714034487812,\n",
              " 0.07141810365883444,\n",
              " 0.06374871769820722,\n",
              " 0.06912217282985689,\n",
              " 0.07517952225098923,\n",
              " 0.07229739631674076,\n",
              " 0.06882907527722143,\n",
              " 0.06843827854037415,\n",
              " 0.07483757510624789,\n",
              " 0.07024571344829272,\n",
              " 0.07432465438913582,\n",
              " 0.07383615846807678,\n",
              " 0.073714034487812,\n",
              " 0.06987934150749842,\n",
              " 0.06824288017195057,\n",
              " 0.0674368619022031,\n",
              " 0.06934199599433344,\n",
              " 0.06562942699428459,\n",
              " 0.07136925406672856,\n",
              " 0.07139367886278153,\n",
              " 0.07344536173122951,\n",
              " 0.07439792877729468,\n",
              " 0.07190659957989348,\n",
              " 0.07493527429045965,\n",
              " 0.0825802354550339,\n",
              " 0.08052855258658587,\n",
              " 0.08177421718528649,\n",
              " 0.08577988373797074,\n",
              " 0.08253138586292807,\n",
              " 0.08702554833667142,\n",
              " 0.09112891407356744,\n",
              " 0.09044501978408476,\n",
              " 0.08973670069854917,\n",
              " 0.0890039568169606,\n",
              " 0.0930828977578037,\n",
              " 0.09686874114601146,\n",
              " 0.09840750329734749,\n",
              " 0.09916467197498902,\n",
              " 0.10573494211323337,\n",
              " 0.11076645010014169,\n",
              " 0.11699477309364464,\n",
              " 0.11374627521860198,\n",
              " 0.11831371208050417,\n",
              " 0.11682379952127397,\n",
              " 0.11960822627131062,\n",
              " 0.12818132968589713,\n",
              " 0.12654486835034928,\n",
              " 0.12144008597528205,\n",
              " 0.11181671633041862,\n",
              " 0.12085389087001125,\n",
              " 0.11902203116603977,\n",
              " 0.12244150261345321,\n",
              " 0.12674026671877292]"
            ]
          },
          "metadata": {
            "tags": []
          },
          "execution_count": 61
        }
      ]
    },
    {
      "cell_type": "code",
      "metadata": {
        "colab": {
          "base_uri": "https://localhost:8080/"
        },
        "id": "ZfXwAhGjFz0k",
        "outputId": "db86cee6-52a5-49ff-ff08-00f20ddb01ab"
      },
      "source": [
        "from numpy import array\n",
        "\n",
        "lst_output=[]\n",
        "n_steps= 100\n",
        "\n",
        "i=0\n",
        "while(i<30):\n",
        "  if(len(temp_input)>100):\n",
        "    x_input = np.array(temp_input[1:])\n",
        "    print(\"{} day input {}\".format(i,x_input))\n",
        "    x_input = x_input.reshape(1,-1)\n",
        "    x_input = x_input.reshape(1, n_steps, 1)\n",
        "    yhat = model.predict(x_input, verbose= 0)\n",
        "    print(\"{} day output {}\".format(i,yhat))\n",
        "    temp_input.extend(yhat[0])\n",
        "    temp_input = temp_input[1:]\n",
        "    lst_output.extend(yhat.tolist())\n",
        "    i=i+1\n",
        "  else:\n",
        "    x_input = x_input.reshape(1, n_steps, 1)\n",
        "    yhat = model.predict(x_input, verbose=0)\n",
        "    print(yhat[0])\n",
        "    temp_input.extend(yhat[0])\n",
        "    print(len(temp_input))\n",
        "    lst_output.extend(yhat.tolist())\n",
        "    i=i+1\n",
        "print(lst_output)"
      ],
      "execution_count": 64,
      "outputs": [
        {
          "output_type": "stream",
          "text": [
            "0 day input [0.05730057 0.06045137 0.04809242 0.05963314 0.0569342  0.06177031\n",
            " 0.0594988  0.06672854 0.07058766 0.06860925 0.05827756 0.05695862\n",
            " 0.06526306 0.06318695 0.05720287 0.05842411 0.05993845 0.0603781\n",
            " 0.0567388  0.06223438 0.06431049 0.07139368 0.07215085 0.07627864\n",
            " 0.08228714 0.08872307 0.08443652 0.09222803 0.08636608 0.092399\n",
            " 0.09156856 0.09322945 0.08900396 0.08995652 0.08614626 0.09195936\n",
            " 0.09293635 0.09213033 0.09015192 0.08990767 0.08497387 0.08761174\n",
            " 0.07615651 0.07676713 0.0807728  0.08192077 0.07371403 0.0714181\n",
            " 0.06374872 0.06912217 0.07517952 0.0722974  0.06882908 0.06843828\n",
            " 0.07483758 0.07024571 0.07432465 0.07383616 0.07371403 0.06987934\n",
            " 0.06824288 0.06743686 0.069342   0.06562943 0.07136925 0.07139368\n",
            " 0.07344536 0.07439793 0.0719066  0.07493527 0.08258024 0.08052855\n",
            " 0.08177422 0.08577988 0.08253139 0.08702555 0.09112891 0.09044502\n",
            " 0.0897367  0.08900396 0.0930829  0.09686874 0.0984075  0.09916467\n",
            " 0.10573494 0.11076645 0.11699477 0.11374628 0.11831371 0.1168238\n",
            " 0.11960823 0.12818133 0.12654487 0.12144009 0.11181672 0.12085389\n",
            " 0.11902203 0.1224415  0.12674027 0.11911844]\n",
            "0 day output [[0.12023575]]\n",
            "1 day input [0.06045137 0.04809242 0.05963314 0.0569342  0.06177031 0.0594988\n",
            " 0.06672854 0.07058766 0.06860925 0.05827756 0.05695862 0.06526306\n",
            " 0.06318695 0.05720287 0.05842411 0.05993845 0.0603781  0.0567388\n",
            " 0.06223438 0.06431049 0.07139368 0.07215085 0.07627864 0.08228714\n",
            " 0.08872307 0.08443652 0.09222803 0.08636608 0.092399   0.09156856\n",
            " 0.09322945 0.08900396 0.08995652 0.08614626 0.09195936 0.09293635\n",
            " 0.09213033 0.09015192 0.08990767 0.08497387 0.08761174 0.07615651\n",
            " 0.07676713 0.0807728  0.08192077 0.07371403 0.0714181  0.06374872\n",
            " 0.06912217 0.07517952 0.0722974  0.06882908 0.06843828 0.07483758\n",
            " 0.07024571 0.07432465 0.07383616 0.07371403 0.06987934 0.06824288\n",
            " 0.06743686 0.069342   0.06562943 0.07136925 0.07139368 0.07344536\n",
            " 0.07439793 0.0719066  0.07493527 0.08258024 0.08052855 0.08177422\n",
            " 0.08577988 0.08253139 0.08702555 0.09112891 0.09044502 0.0897367\n",
            " 0.08900396 0.0930829  0.09686874 0.0984075  0.09916467 0.10573494\n",
            " 0.11076645 0.11699477 0.11374628 0.11831371 0.1168238  0.11960823\n",
            " 0.12818133 0.12654487 0.12144009 0.11181672 0.12085389 0.11902203\n",
            " 0.1224415  0.12674027 0.11911844 0.12023575]\n",
            "1 day output [[0.12095426]]\n",
            "2 day input [0.04809242 0.05963314 0.0569342  0.06177031 0.0594988  0.06672854\n",
            " 0.07058766 0.06860925 0.05827756 0.05695862 0.06526306 0.06318695\n",
            " 0.05720287 0.05842411 0.05993845 0.0603781  0.0567388  0.06223438\n",
            " 0.06431049 0.07139368 0.07215085 0.07627864 0.08228714 0.08872307\n",
            " 0.08443652 0.09222803 0.08636608 0.092399   0.09156856 0.09322945\n",
            " 0.08900396 0.08995652 0.08614626 0.09195936 0.09293635 0.09213033\n",
            " 0.09015192 0.08990767 0.08497387 0.08761174 0.07615651 0.07676713\n",
            " 0.0807728  0.08192077 0.07371403 0.0714181  0.06374872 0.06912217\n",
            " 0.07517952 0.0722974  0.06882908 0.06843828 0.07483758 0.07024571\n",
            " 0.07432465 0.07383616 0.07371403 0.06987934 0.06824288 0.06743686\n",
            " 0.069342   0.06562943 0.07136925 0.07139368 0.07344536 0.07439793\n",
            " 0.0719066  0.07493527 0.08258024 0.08052855 0.08177422 0.08577988\n",
            " 0.08253139 0.08702555 0.09112891 0.09044502 0.0897367  0.08900396\n",
            " 0.0930829  0.09686874 0.0984075  0.09916467 0.10573494 0.11076645\n",
            " 0.11699477 0.11374628 0.11831371 0.1168238  0.11960823 0.12818133\n",
            " 0.12654487 0.12144009 0.11181672 0.12085389 0.11902203 0.1224415\n",
            " 0.12674027 0.11911844 0.12023575 0.12095426]\n",
            "2 day output [[0.12140021]]\n",
            "3 day input [0.05963314 0.0569342  0.06177031 0.0594988  0.06672854 0.07058766\n",
            " 0.06860925 0.05827756 0.05695862 0.06526306 0.06318695 0.05720287\n",
            " 0.05842411 0.05993845 0.0603781  0.0567388  0.06223438 0.06431049\n",
            " 0.07139368 0.07215085 0.07627864 0.08228714 0.08872307 0.08443652\n",
            " 0.09222803 0.08636608 0.092399   0.09156856 0.09322945 0.08900396\n",
            " 0.08995652 0.08614626 0.09195936 0.09293635 0.09213033 0.09015192\n",
            " 0.08990767 0.08497387 0.08761174 0.07615651 0.07676713 0.0807728\n",
            " 0.08192077 0.07371403 0.0714181  0.06374872 0.06912217 0.07517952\n",
            " 0.0722974  0.06882908 0.06843828 0.07483758 0.07024571 0.07432465\n",
            " 0.07383616 0.07371403 0.06987934 0.06824288 0.06743686 0.069342\n",
            " 0.06562943 0.07136925 0.07139368 0.07344536 0.07439793 0.0719066\n",
            " 0.07493527 0.08258024 0.08052855 0.08177422 0.08577988 0.08253139\n",
            " 0.08702555 0.09112891 0.09044502 0.0897367  0.08900396 0.0930829\n",
            " 0.09686874 0.0984075  0.09916467 0.10573494 0.11076645 0.11699477\n",
            " 0.11374628 0.11831371 0.1168238  0.11960823 0.12818133 0.12654487\n",
            " 0.12144009 0.11181672 0.12085389 0.11902203 0.1224415  0.12674027\n",
            " 0.11911844 0.12023575 0.12095426 0.12140021]\n",
            "3 day output [[0.12174293]]\n",
            "4 day input [0.0569342  0.06177031 0.0594988  0.06672854 0.07058766 0.06860925\n",
            " 0.05827756 0.05695862 0.06526306 0.06318695 0.05720287 0.05842411\n",
            " 0.05993845 0.0603781  0.0567388  0.06223438 0.06431049 0.07139368\n",
            " 0.07215085 0.07627864 0.08228714 0.08872307 0.08443652 0.09222803\n",
            " 0.08636608 0.092399   0.09156856 0.09322945 0.08900396 0.08995652\n",
            " 0.08614626 0.09195936 0.09293635 0.09213033 0.09015192 0.08990767\n",
            " 0.08497387 0.08761174 0.07615651 0.07676713 0.0807728  0.08192077\n",
            " 0.07371403 0.0714181  0.06374872 0.06912217 0.07517952 0.0722974\n",
            " 0.06882908 0.06843828 0.07483758 0.07024571 0.07432465 0.07383616\n",
            " 0.07371403 0.06987934 0.06824288 0.06743686 0.069342   0.06562943\n",
            " 0.07136925 0.07139368 0.07344536 0.07439793 0.0719066  0.07493527\n",
            " 0.08258024 0.08052855 0.08177422 0.08577988 0.08253139 0.08702555\n",
            " 0.09112891 0.09044502 0.0897367  0.08900396 0.0930829  0.09686874\n",
            " 0.0984075  0.09916467 0.10573494 0.11076645 0.11699477 0.11374628\n",
            " 0.11831371 0.1168238  0.11960823 0.12818133 0.12654487 0.12144009\n",
            " 0.11181672 0.12085389 0.11902203 0.1224415  0.12674027 0.11911844\n",
            " 0.12023575 0.12095426 0.12140021 0.12174293]\n",
            "4 day output [[0.12208961]]\n",
            "5 day input [0.06177031 0.0594988  0.06672854 0.07058766 0.06860925 0.05827756\n",
            " 0.05695862 0.06526306 0.06318695 0.05720287 0.05842411 0.05993845\n",
            " 0.0603781  0.0567388  0.06223438 0.06431049 0.07139368 0.07215085\n",
            " 0.07627864 0.08228714 0.08872307 0.08443652 0.09222803 0.08636608\n",
            " 0.092399   0.09156856 0.09322945 0.08900396 0.08995652 0.08614626\n",
            " 0.09195936 0.09293635 0.09213033 0.09015192 0.08990767 0.08497387\n",
            " 0.08761174 0.07615651 0.07676713 0.0807728  0.08192077 0.07371403\n",
            " 0.0714181  0.06374872 0.06912217 0.07517952 0.0722974  0.06882908\n",
            " 0.06843828 0.07483758 0.07024571 0.07432465 0.07383616 0.07371403\n",
            " 0.06987934 0.06824288 0.06743686 0.069342   0.06562943 0.07136925\n",
            " 0.07139368 0.07344536 0.07439793 0.0719066  0.07493527 0.08258024\n",
            " 0.08052855 0.08177422 0.08577988 0.08253139 0.08702555 0.09112891\n",
            " 0.09044502 0.0897367  0.08900396 0.0930829  0.09686874 0.0984075\n",
            " 0.09916467 0.10573494 0.11076645 0.11699477 0.11374628 0.11831371\n",
            " 0.1168238  0.11960823 0.12818133 0.12654487 0.12144009 0.11181672\n",
            " 0.12085389 0.11902203 0.1224415  0.12674027 0.11911844 0.12023575\n",
            " 0.12095426 0.12140021 0.12174293 0.12208961]\n",
            "5 day output [[0.12248407]]\n",
            "6 day input [0.0594988  0.06672854 0.07058766 0.06860925 0.05827756 0.05695862\n",
            " 0.06526306 0.06318695 0.05720287 0.05842411 0.05993845 0.0603781\n",
            " 0.0567388  0.06223438 0.06431049 0.07139368 0.07215085 0.07627864\n",
            " 0.08228714 0.08872307 0.08443652 0.09222803 0.08636608 0.092399\n",
            " 0.09156856 0.09322945 0.08900396 0.08995652 0.08614626 0.09195936\n",
            " 0.09293635 0.09213033 0.09015192 0.08990767 0.08497387 0.08761174\n",
            " 0.07615651 0.07676713 0.0807728  0.08192077 0.07371403 0.0714181\n",
            " 0.06374872 0.06912217 0.07517952 0.0722974  0.06882908 0.06843828\n",
            " 0.07483758 0.07024571 0.07432465 0.07383616 0.07371403 0.06987934\n",
            " 0.06824288 0.06743686 0.069342   0.06562943 0.07136925 0.07139368\n",
            " 0.07344536 0.07439793 0.0719066  0.07493527 0.08258024 0.08052855\n",
            " 0.08177422 0.08577988 0.08253139 0.08702555 0.09112891 0.09044502\n",
            " 0.0897367  0.08900396 0.0930829  0.09686874 0.0984075  0.09916467\n",
            " 0.10573494 0.11076645 0.11699477 0.11374628 0.11831371 0.1168238\n",
            " 0.11960823 0.12818133 0.12654487 0.12144009 0.11181672 0.12085389\n",
            " 0.11902203 0.1224415  0.12674027 0.11911844 0.12023575 0.12095426\n",
            " 0.12140021 0.12174293 0.12208961 0.12248407]\n",
            "6 day output [[0.12293167]]\n",
            "7 day input [0.06672854 0.07058766 0.06860925 0.05827756 0.05695862 0.06526306\n",
            " 0.06318695 0.05720287 0.05842411 0.05993845 0.0603781  0.0567388\n",
            " 0.06223438 0.06431049 0.07139368 0.07215085 0.07627864 0.08228714\n",
            " 0.08872307 0.08443652 0.09222803 0.08636608 0.092399   0.09156856\n",
            " 0.09322945 0.08900396 0.08995652 0.08614626 0.09195936 0.09293635\n",
            " 0.09213033 0.09015192 0.08990767 0.08497387 0.08761174 0.07615651\n",
            " 0.07676713 0.0807728  0.08192077 0.07371403 0.0714181  0.06374872\n",
            " 0.06912217 0.07517952 0.0722974  0.06882908 0.06843828 0.07483758\n",
            " 0.07024571 0.07432465 0.07383616 0.07371403 0.06987934 0.06824288\n",
            " 0.06743686 0.069342   0.06562943 0.07136925 0.07139368 0.07344536\n",
            " 0.07439793 0.0719066  0.07493527 0.08258024 0.08052855 0.08177422\n",
            " 0.08577988 0.08253139 0.08702555 0.09112891 0.09044502 0.0897367\n",
            " 0.08900396 0.0930829  0.09686874 0.0984075  0.09916467 0.10573494\n",
            " 0.11076645 0.11699477 0.11374628 0.11831371 0.1168238  0.11960823\n",
            " 0.12818133 0.12654487 0.12144009 0.11181672 0.12085389 0.11902203\n",
            " 0.1224415  0.12674027 0.11911844 0.12023575 0.12095426 0.12140021\n",
            " 0.12174293 0.12208961 0.12248407 0.12293167]\n",
            "7 day output [[0.12342118]]\n",
            "8 day input [0.07058766 0.06860925 0.05827756 0.05695862 0.06526306 0.06318695\n",
            " 0.05720287 0.05842411 0.05993845 0.0603781  0.0567388  0.06223438\n",
            " 0.06431049 0.07139368 0.07215085 0.07627864 0.08228714 0.08872307\n",
            " 0.08443652 0.09222803 0.08636608 0.092399   0.09156856 0.09322945\n",
            " 0.08900396 0.08995652 0.08614626 0.09195936 0.09293635 0.09213033\n",
            " 0.09015192 0.08990767 0.08497387 0.08761174 0.07615651 0.07676713\n",
            " 0.0807728  0.08192077 0.07371403 0.0714181  0.06374872 0.06912217\n",
            " 0.07517952 0.0722974  0.06882908 0.06843828 0.07483758 0.07024571\n",
            " 0.07432465 0.07383616 0.07371403 0.06987934 0.06824288 0.06743686\n",
            " 0.069342   0.06562943 0.07136925 0.07139368 0.07344536 0.07439793\n",
            " 0.0719066  0.07493527 0.08258024 0.08052855 0.08177422 0.08577988\n",
            " 0.08253139 0.08702555 0.09112891 0.09044502 0.0897367  0.08900396\n",
            " 0.0930829  0.09686874 0.0984075  0.09916467 0.10573494 0.11076645\n",
            " 0.11699477 0.11374628 0.11831371 0.1168238  0.11960823 0.12818133\n",
            " 0.12654487 0.12144009 0.11181672 0.12085389 0.11902203 0.1224415\n",
            " 0.12674027 0.11911844 0.12023575 0.12095426 0.12140021 0.12174293\n",
            " 0.12208961 0.12248407 0.12293167 0.12342118]\n",
            "8 day output [[0.12393723]]\n",
            "9 day input [0.06860925 0.05827756 0.05695862 0.06526306 0.06318695 0.05720287\n",
            " 0.05842411 0.05993845 0.0603781  0.0567388  0.06223438 0.06431049\n",
            " 0.07139368 0.07215085 0.07627864 0.08228714 0.08872307 0.08443652\n",
            " 0.09222803 0.08636608 0.092399   0.09156856 0.09322945 0.08900396\n",
            " 0.08995652 0.08614626 0.09195936 0.09293635 0.09213033 0.09015192\n",
            " 0.08990767 0.08497387 0.08761174 0.07615651 0.07676713 0.0807728\n",
            " 0.08192077 0.07371403 0.0714181  0.06374872 0.06912217 0.07517952\n",
            " 0.0722974  0.06882908 0.06843828 0.07483758 0.07024571 0.07432465\n",
            " 0.07383616 0.07371403 0.06987934 0.06824288 0.06743686 0.069342\n",
            " 0.06562943 0.07136925 0.07139368 0.07344536 0.07439793 0.0719066\n",
            " 0.07493527 0.08258024 0.08052855 0.08177422 0.08577988 0.08253139\n",
            " 0.08702555 0.09112891 0.09044502 0.0897367  0.08900396 0.0930829\n",
            " 0.09686874 0.0984075  0.09916467 0.10573494 0.11076645 0.11699477\n",
            " 0.11374628 0.11831371 0.1168238  0.11960823 0.12818133 0.12654487\n",
            " 0.12144009 0.11181672 0.12085389 0.11902203 0.1224415  0.12674027\n",
            " 0.11911844 0.12023575 0.12095426 0.12140021 0.12174293 0.12208961\n",
            " 0.12248407 0.12293167 0.12342118 0.12393723]\n",
            "9 day output [[0.12446577]]\n",
            "10 day input [0.05827756 0.05695862 0.06526306 0.06318695 0.05720287 0.05842411\n",
            " 0.05993845 0.0603781  0.0567388  0.06223438 0.06431049 0.07139368\n",
            " 0.07215085 0.07627864 0.08228714 0.08872307 0.08443652 0.09222803\n",
            " 0.08636608 0.092399   0.09156856 0.09322945 0.08900396 0.08995652\n",
            " 0.08614626 0.09195936 0.09293635 0.09213033 0.09015192 0.08990767\n",
            " 0.08497387 0.08761174 0.07615651 0.07676713 0.0807728  0.08192077\n",
            " 0.07371403 0.0714181  0.06374872 0.06912217 0.07517952 0.0722974\n",
            " 0.06882908 0.06843828 0.07483758 0.07024571 0.07432465 0.07383616\n",
            " 0.07371403 0.06987934 0.06824288 0.06743686 0.069342   0.06562943\n",
            " 0.07136925 0.07139368 0.07344536 0.07439793 0.0719066  0.07493527\n",
            " 0.08258024 0.08052855 0.08177422 0.08577988 0.08253139 0.08702555\n",
            " 0.09112891 0.09044502 0.0897367  0.08900396 0.0930829  0.09686874\n",
            " 0.0984075  0.09916467 0.10573494 0.11076645 0.11699477 0.11374628\n",
            " 0.11831371 0.1168238  0.11960823 0.12818133 0.12654487 0.12144009\n",
            " 0.11181672 0.12085389 0.11902203 0.1224415  0.12674027 0.11911844\n",
            " 0.12023575 0.12095426 0.12140021 0.12174293 0.12208961 0.12248407\n",
            " 0.12293167 0.12342118 0.12393723 0.12446577]\n",
            "10 day output [[0.12499573]]\n",
            "11 day input [0.05695862 0.06526306 0.06318695 0.05720287 0.05842411 0.05993845\n",
            " 0.0603781  0.0567388  0.06223438 0.06431049 0.07139368 0.07215085\n",
            " 0.07627864 0.08228714 0.08872307 0.08443652 0.09222803 0.08636608\n",
            " 0.092399   0.09156856 0.09322945 0.08900396 0.08995652 0.08614626\n",
            " 0.09195936 0.09293635 0.09213033 0.09015192 0.08990767 0.08497387\n",
            " 0.08761174 0.07615651 0.07676713 0.0807728  0.08192077 0.07371403\n",
            " 0.0714181  0.06374872 0.06912217 0.07517952 0.0722974  0.06882908\n",
            " 0.06843828 0.07483758 0.07024571 0.07432465 0.07383616 0.07371403\n",
            " 0.06987934 0.06824288 0.06743686 0.069342   0.06562943 0.07136925\n",
            " 0.07139368 0.07344536 0.07439793 0.0719066  0.07493527 0.08258024\n",
            " 0.08052855 0.08177422 0.08577988 0.08253139 0.08702555 0.09112891\n",
            " 0.09044502 0.0897367  0.08900396 0.0930829  0.09686874 0.0984075\n",
            " 0.09916467 0.10573494 0.11076645 0.11699477 0.11374628 0.11831371\n",
            " 0.1168238  0.11960823 0.12818133 0.12654487 0.12144009 0.11181672\n",
            " 0.12085389 0.11902203 0.1224415  0.12674027 0.11911844 0.12023575\n",
            " 0.12095426 0.12140021 0.12174293 0.12208961 0.12248407 0.12293167\n",
            " 0.12342118 0.12393723 0.12446577 0.12499573]\n",
            "11 day output [[0.12551898]]\n",
            "12 day input [0.06526306 0.06318695 0.05720287 0.05842411 0.05993845 0.0603781\n",
            " 0.0567388  0.06223438 0.06431049 0.07139368 0.07215085 0.07627864\n",
            " 0.08228714 0.08872307 0.08443652 0.09222803 0.08636608 0.092399\n",
            " 0.09156856 0.09322945 0.08900396 0.08995652 0.08614626 0.09195936\n",
            " 0.09293635 0.09213033 0.09015192 0.08990767 0.08497387 0.08761174\n",
            " 0.07615651 0.07676713 0.0807728  0.08192077 0.07371403 0.0714181\n",
            " 0.06374872 0.06912217 0.07517952 0.0722974  0.06882908 0.06843828\n",
            " 0.07483758 0.07024571 0.07432465 0.07383616 0.07371403 0.06987934\n",
            " 0.06824288 0.06743686 0.069342   0.06562943 0.07136925 0.07139368\n",
            " 0.07344536 0.07439793 0.0719066  0.07493527 0.08258024 0.08052855\n",
            " 0.08177422 0.08577988 0.08253139 0.08702555 0.09112891 0.09044502\n",
            " 0.0897367  0.08900396 0.0930829  0.09686874 0.0984075  0.09916467\n",
            " 0.10573494 0.11076645 0.11699477 0.11374628 0.11831371 0.1168238\n",
            " 0.11960823 0.12818133 0.12654487 0.12144009 0.11181672 0.12085389\n",
            " 0.11902203 0.1224415  0.12674027 0.11911844 0.12023575 0.12095426\n",
            " 0.12140021 0.12174293 0.12208961 0.12248407 0.12293167 0.12342118\n",
            " 0.12393723 0.12446577 0.12499573 0.12551898]\n",
            "12 day output [[0.12603006]]\n",
            "13 day input [0.06318695 0.05720287 0.05842411 0.05993845 0.0603781  0.0567388\n",
            " 0.06223438 0.06431049 0.07139368 0.07215085 0.07627864 0.08228714\n",
            " 0.08872307 0.08443652 0.09222803 0.08636608 0.092399   0.09156856\n",
            " 0.09322945 0.08900396 0.08995652 0.08614626 0.09195936 0.09293635\n",
            " 0.09213033 0.09015192 0.08990767 0.08497387 0.08761174 0.07615651\n",
            " 0.07676713 0.0807728  0.08192077 0.07371403 0.0714181  0.06374872\n",
            " 0.06912217 0.07517952 0.0722974  0.06882908 0.06843828 0.07483758\n",
            " 0.07024571 0.07432465 0.07383616 0.07371403 0.06987934 0.06824288\n",
            " 0.06743686 0.069342   0.06562943 0.07136925 0.07139368 0.07344536\n",
            " 0.07439793 0.0719066  0.07493527 0.08258024 0.08052855 0.08177422\n",
            " 0.08577988 0.08253139 0.08702555 0.09112891 0.09044502 0.0897367\n",
            " 0.08900396 0.0930829  0.09686874 0.0984075  0.09916467 0.10573494\n",
            " 0.11076645 0.11699477 0.11374628 0.11831371 0.1168238  0.11960823\n",
            " 0.12818133 0.12654487 0.12144009 0.11181672 0.12085389 0.11902203\n",
            " 0.1224415  0.12674027 0.11911844 0.12023575 0.12095426 0.12140021\n",
            " 0.12174293 0.12208961 0.12248407 0.12293167 0.12342118 0.12393723\n",
            " 0.12446577 0.12499573 0.12551898 0.12603006]\n",
            "13 day output [[0.12652571]]\n",
            "14 day input [0.05720287 0.05842411 0.05993845 0.0603781  0.0567388  0.06223438\n",
            " 0.06431049 0.07139368 0.07215085 0.07627864 0.08228714 0.08872307\n",
            " 0.08443652 0.09222803 0.08636608 0.092399   0.09156856 0.09322945\n",
            " 0.08900396 0.08995652 0.08614626 0.09195936 0.09293635 0.09213033\n",
            " 0.09015192 0.08990767 0.08497387 0.08761174 0.07615651 0.07676713\n",
            " 0.0807728  0.08192077 0.07371403 0.0714181  0.06374872 0.06912217\n",
            " 0.07517952 0.0722974  0.06882908 0.06843828 0.07483758 0.07024571\n",
            " 0.07432465 0.07383616 0.07371403 0.06987934 0.06824288 0.06743686\n",
            " 0.069342   0.06562943 0.07136925 0.07139368 0.07344536 0.07439793\n",
            " 0.0719066  0.07493527 0.08258024 0.08052855 0.08177422 0.08577988\n",
            " 0.08253139 0.08702555 0.09112891 0.09044502 0.0897367  0.08900396\n",
            " 0.0930829  0.09686874 0.0984075  0.09916467 0.10573494 0.11076645\n",
            " 0.11699477 0.11374628 0.11831371 0.1168238  0.11960823 0.12818133\n",
            " 0.12654487 0.12144009 0.11181672 0.12085389 0.11902203 0.1224415\n",
            " 0.12674027 0.11911844 0.12023575 0.12095426 0.12140021 0.12174293\n",
            " 0.12208961 0.12248407 0.12293167 0.12342118 0.12393723 0.12446577\n",
            " 0.12499573 0.12551898 0.12603006 0.12652571]\n",
            "14 day output [[0.12700458]]\n",
            "15 day input [0.05842411 0.05993845 0.0603781  0.0567388  0.06223438 0.06431049\n",
            " 0.07139368 0.07215085 0.07627864 0.08228714 0.08872307 0.08443652\n",
            " 0.09222803 0.08636608 0.092399   0.09156856 0.09322945 0.08900396\n",
            " 0.08995652 0.08614626 0.09195936 0.09293635 0.09213033 0.09015192\n",
            " 0.08990767 0.08497387 0.08761174 0.07615651 0.07676713 0.0807728\n",
            " 0.08192077 0.07371403 0.0714181  0.06374872 0.06912217 0.07517952\n",
            " 0.0722974  0.06882908 0.06843828 0.07483758 0.07024571 0.07432465\n",
            " 0.07383616 0.07371403 0.06987934 0.06824288 0.06743686 0.069342\n",
            " 0.06562943 0.07136925 0.07139368 0.07344536 0.07439793 0.0719066\n",
            " 0.07493527 0.08258024 0.08052855 0.08177422 0.08577988 0.08253139\n",
            " 0.08702555 0.09112891 0.09044502 0.0897367  0.08900396 0.0930829\n",
            " 0.09686874 0.0984075  0.09916467 0.10573494 0.11076645 0.11699477\n",
            " 0.11374628 0.11831371 0.1168238  0.11960823 0.12818133 0.12654487\n",
            " 0.12144009 0.11181672 0.12085389 0.11902203 0.1224415  0.12674027\n",
            " 0.11911844 0.12023575 0.12095426 0.12140021 0.12174293 0.12208961\n",
            " 0.12248407 0.12293167 0.12342118 0.12393723 0.12446577 0.12499573\n",
            " 0.12551898 0.12603006 0.12652571 0.12700458]\n",
            "15 day output [[0.12746677]]\n",
            "16 day input [0.05993845 0.0603781  0.0567388  0.06223438 0.06431049 0.07139368\n",
            " 0.07215085 0.07627864 0.08228714 0.08872307 0.08443652 0.09222803\n",
            " 0.08636608 0.092399   0.09156856 0.09322945 0.08900396 0.08995652\n",
            " 0.08614626 0.09195936 0.09293635 0.09213033 0.09015192 0.08990767\n",
            " 0.08497387 0.08761174 0.07615651 0.07676713 0.0807728  0.08192077\n",
            " 0.07371403 0.0714181  0.06374872 0.06912217 0.07517952 0.0722974\n",
            " 0.06882908 0.06843828 0.07483758 0.07024571 0.07432465 0.07383616\n",
            " 0.07371403 0.06987934 0.06824288 0.06743686 0.069342   0.06562943\n",
            " 0.07136925 0.07139368 0.07344536 0.07439793 0.0719066  0.07493527\n",
            " 0.08258024 0.08052855 0.08177422 0.08577988 0.08253139 0.08702555\n",
            " 0.09112891 0.09044502 0.0897367  0.08900396 0.0930829  0.09686874\n",
            " 0.0984075  0.09916467 0.10573494 0.11076645 0.11699477 0.11374628\n",
            " 0.11831371 0.1168238  0.11960823 0.12818133 0.12654487 0.12144009\n",
            " 0.11181672 0.12085389 0.11902203 0.1224415  0.12674027 0.11911844\n",
            " 0.12023575 0.12095426 0.12140021 0.12174293 0.12208961 0.12248407\n",
            " 0.12293167 0.12342118 0.12393723 0.12446577 0.12499573 0.12551898\n",
            " 0.12603006 0.12652571 0.12700458 0.12746677]\n",
            "16 day output [[0.12791365]]\n",
            "17 day input [0.0603781  0.0567388  0.06223438 0.06431049 0.07139368 0.07215085\n",
            " 0.07627864 0.08228714 0.08872307 0.08443652 0.09222803 0.08636608\n",
            " 0.092399   0.09156856 0.09322945 0.08900396 0.08995652 0.08614626\n",
            " 0.09195936 0.09293635 0.09213033 0.09015192 0.08990767 0.08497387\n",
            " 0.08761174 0.07615651 0.07676713 0.0807728  0.08192077 0.07371403\n",
            " 0.0714181  0.06374872 0.06912217 0.07517952 0.0722974  0.06882908\n",
            " 0.06843828 0.07483758 0.07024571 0.07432465 0.07383616 0.07371403\n",
            " 0.06987934 0.06824288 0.06743686 0.069342   0.06562943 0.07136925\n",
            " 0.07139368 0.07344536 0.07439793 0.0719066  0.07493527 0.08258024\n",
            " 0.08052855 0.08177422 0.08577988 0.08253139 0.08702555 0.09112891\n",
            " 0.09044502 0.0897367  0.08900396 0.0930829  0.09686874 0.0984075\n",
            " 0.09916467 0.10573494 0.11076645 0.11699477 0.11374628 0.11831371\n",
            " 0.1168238  0.11960823 0.12818133 0.12654487 0.12144009 0.11181672\n",
            " 0.12085389 0.11902203 0.1224415  0.12674027 0.11911844 0.12023575\n",
            " 0.12095426 0.12140021 0.12174293 0.12208961 0.12248407 0.12293167\n",
            " 0.12342118 0.12393723 0.12446577 0.12499573 0.12551898 0.12603006\n",
            " 0.12652571 0.12700458 0.12746677 0.12791365]\n",
            "17 day output [[0.1283473]]\n",
            "18 day input [0.0567388  0.06223438 0.06431049 0.07139368 0.07215085 0.07627864\n",
            " 0.08228714 0.08872307 0.08443652 0.09222803 0.08636608 0.092399\n",
            " 0.09156856 0.09322945 0.08900396 0.08995652 0.08614626 0.09195936\n",
            " 0.09293635 0.09213033 0.09015192 0.08990767 0.08497387 0.08761174\n",
            " 0.07615651 0.07676713 0.0807728  0.08192077 0.07371403 0.0714181\n",
            " 0.06374872 0.06912217 0.07517952 0.0722974  0.06882908 0.06843828\n",
            " 0.07483758 0.07024571 0.07432465 0.07383616 0.07371403 0.06987934\n",
            " 0.06824288 0.06743686 0.069342   0.06562943 0.07136925 0.07139368\n",
            " 0.07344536 0.07439793 0.0719066  0.07493527 0.08258024 0.08052855\n",
            " 0.08177422 0.08577988 0.08253139 0.08702555 0.09112891 0.09044502\n",
            " 0.0897367  0.08900396 0.0930829  0.09686874 0.0984075  0.09916467\n",
            " 0.10573494 0.11076645 0.11699477 0.11374628 0.11831371 0.1168238\n",
            " 0.11960823 0.12818133 0.12654487 0.12144009 0.11181672 0.12085389\n",
            " 0.11902203 0.1224415  0.12674027 0.11911844 0.12023575 0.12095426\n",
            " 0.12140021 0.12174293 0.12208961 0.12248407 0.12293167 0.12342118\n",
            " 0.12393723 0.12446577 0.12499573 0.12551898 0.12603006 0.12652571\n",
            " 0.12700458 0.12746677 0.12791365 0.12834731]\n",
            "18 day output [[0.12877046]]\n",
            "19 day input [0.06223438 0.06431049 0.07139368 0.07215085 0.07627864 0.08228714\n",
            " 0.08872307 0.08443652 0.09222803 0.08636608 0.092399   0.09156856\n",
            " 0.09322945 0.08900396 0.08995652 0.08614626 0.09195936 0.09293635\n",
            " 0.09213033 0.09015192 0.08990767 0.08497387 0.08761174 0.07615651\n",
            " 0.07676713 0.0807728  0.08192077 0.07371403 0.0714181  0.06374872\n",
            " 0.06912217 0.07517952 0.0722974  0.06882908 0.06843828 0.07483758\n",
            " 0.07024571 0.07432465 0.07383616 0.07371403 0.06987934 0.06824288\n",
            " 0.06743686 0.069342   0.06562943 0.07136925 0.07139368 0.07344536\n",
            " 0.07439793 0.0719066  0.07493527 0.08258024 0.08052855 0.08177422\n",
            " 0.08577988 0.08253139 0.08702555 0.09112891 0.09044502 0.0897367\n",
            " 0.08900396 0.0930829  0.09686874 0.0984075  0.09916467 0.10573494\n",
            " 0.11076645 0.11699477 0.11374628 0.11831371 0.1168238  0.11960823\n",
            " 0.12818133 0.12654487 0.12144009 0.11181672 0.12085389 0.11902203\n",
            " 0.1224415  0.12674027 0.11911844 0.12023575 0.12095426 0.12140021\n",
            " 0.12174293 0.12208961 0.12248407 0.12293167 0.12342118 0.12393723\n",
            " 0.12446577 0.12499573 0.12551898 0.12603006 0.12652571 0.12700458\n",
            " 0.12746677 0.12791365 0.12834731 0.12877046]\n",
            "19 day output [[0.12918593]]\n",
            "20 day input [0.06431049 0.07139368 0.07215085 0.07627864 0.08228714 0.08872307\n",
            " 0.08443652 0.09222803 0.08636608 0.092399   0.09156856 0.09322945\n",
            " 0.08900396 0.08995652 0.08614626 0.09195936 0.09293635 0.09213033\n",
            " 0.09015192 0.08990767 0.08497387 0.08761174 0.07615651 0.07676713\n",
            " 0.0807728  0.08192077 0.07371403 0.0714181  0.06374872 0.06912217\n",
            " 0.07517952 0.0722974  0.06882908 0.06843828 0.07483758 0.07024571\n",
            " 0.07432465 0.07383616 0.07371403 0.06987934 0.06824288 0.06743686\n",
            " 0.069342   0.06562943 0.07136925 0.07139368 0.07344536 0.07439793\n",
            " 0.0719066  0.07493527 0.08258024 0.08052855 0.08177422 0.08577988\n",
            " 0.08253139 0.08702555 0.09112891 0.09044502 0.0897367  0.08900396\n",
            " 0.0930829  0.09686874 0.0984075  0.09916467 0.10573494 0.11076645\n",
            " 0.11699477 0.11374628 0.11831371 0.1168238  0.11960823 0.12818133\n",
            " 0.12654487 0.12144009 0.11181672 0.12085389 0.11902203 0.1224415\n",
            " 0.12674027 0.11911844 0.12023575 0.12095426 0.12140021 0.12174293\n",
            " 0.12208961 0.12248407 0.12293167 0.12342118 0.12393723 0.12446577\n",
            " 0.12499573 0.12551898 0.12603006 0.12652571 0.12700458 0.12746677\n",
            " 0.12791365 0.12834731 0.12877046 0.12918593]\n",
            "20 day output [[0.1295966]]\n",
            "21 day input [0.07139368 0.07215085 0.07627864 0.08228714 0.08872307 0.08443652\n",
            " 0.09222803 0.08636608 0.092399   0.09156856 0.09322945 0.08900396\n",
            " 0.08995652 0.08614626 0.09195936 0.09293635 0.09213033 0.09015192\n",
            " 0.08990767 0.08497387 0.08761174 0.07615651 0.07676713 0.0807728\n",
            " 0.08192077 0.07371403 0.0714181  0.06374872 0.06912217 0.07517952\n",
            " 0.0722974  0.06882908 0.06843828 0.07483758 0.07024571 0.07432465\n",
            " 0.07383616 0.07371403 0.06987934 0.06824288 0.06743686 0.069342\n",
            " 0.06562943 0.07136925 0.07139368 0.07344536 0.07439793 0.0719066\n",
            " 0.07493527 0.08258024 0.08052855 0.08177422 0.08577988 0.08253139\n",
            " 0.08702555 0.09112891 0.09044502 0.0897367  0.08900396 0.0930829\n",
            " 0.09686874 0.0984075  0.09916467 0.10573494 0.11076645 0.11699477\n",
            " 0.11374628 0.11831371 0.1168238  0.11960823 0.12818133 0.12654487\n",
            " 0.12144009 0.11181672 0.12085389 0.11902203 0.1224415  0.12674027\n",
            " 0.11911844 0.12023575 0.12095426 0.12140021 0.12174293 0.12208961\n",
            " 0.12248407 0.12293167 0.12342118 0.12393723 0.12446577 0.12499573\n",
            " 0.12551898 0.12603006 0.12652571 0.12700458 0.12746677 0.12791365\n",
            " 0.12834731 0.12877046 0.12918593 0.12959661]\n",
            "21 day output [[0.1300051]]\n",
            "22 day input [0.07215085 0.07627864 0.08228714 0.08872307 0.08443652 0.09222803\n",
            " 0.08636608 0.092399   0.09156856 0.09322945 0.08900396 0.08995652\n",
            " 0.08614626 0.09195936 0.09293635 0.09213033 0.09015192 0.08990767\n",
            " 0.08497387 0.08761174 0.07615651 0.07676713 0.0807728  0.08192077\n",
            " 0.07371403 0.0714181  0.06374872 0.06912217 0.07517952 0.0722974\n",
            " 0.06882908 0.06843828 0.07483758 0.07024571 0.07432465 0.07383616\n",
            " 0.07371403 0.06987934 0.06824288 0.06743686 0.069342   0.06562943\n",
            " 0.07136925 0.07139368 0.07344536 0.07439793 0.0719066  0.07493527\n",
            " 0.08258024 0.08052855 0.08177422 0.08577988 0.08253139 0.08702555\n",
            " 0.09112891 0.09044502 0.0897367  0.08900396 0.0930829  0.09686874\n",
            " 0.0984075  0.09916467 0.10573494 0.11076645 0.11699477 0.11374628\n",
            " 0.11831371 0.1168238  0.11960823 0.12818133 0.12654487 0.12144009\n",
            " 0.11181672 0.12085389 0.11902203 0.1224415  0.12674027 0.11911844\n",
            " 0.12023575 0.12095426 0.12140021 0.12174293 0.12208961 0.12248407\n",
            " 0.12293167 0.12342118 0.12393723 0.12446577 0.12499573 0.12551898\n",
            " 0.12603006 0.12652571 0.12700458 0.12746677 0.12791365 0.12834731\n",
            " 0.12877046 0.12918593 0.12959661 0.13000511]\n",
            "22 day output [[0.13041362]]\n",
            "23 day input [0.07627864 0.08228714 0.08872307 0.08443652 0.09222803 0.08636608\n",
            " 0.092399   0.09156856 0.09322945 0.08900396 0.08995652 0.08614626\n",
            " 0.09195936 0.09293635 0.09213033 0.09015192 0.08990767 0.08497387\n",
            " 0.08761174 0.07615651 0.07676713 0.0807728  0.08192077 0.07371403\n",
            " 0.0714181  0.06374872 0.06912217 0.07517952 0.0722974  0.06882908\n",
            " 0.06843828 0.07483758 0.07024571 0.07432465 0.07383616 0.07371403\n",
            " 0.06987934 0.06824288 0.06743686 0.069342   0.06562943 0.07136925\n",
            " 0.07139368 0.07344536 0.07439793 0.0719066  0.07493527 0.08258024\n",
            " 0.08052855 0.08177422 0.08577988 0.08253139 0.08702555 0.09112891\n",
            " 0.09044502 0.0897367  0.08900396 0.0930829  0.09686874 0.0984075\n",
            " 0.09916467 0.10573494 0.11076645 0.11699477 0.11374628 0.11831371\n",
            " 0.1168238  0.11960823 0.12818133 0.12654487 0.12144009 0.11181672\n",
            " 0.12085389 0.11902203 0.1224415  0.12674027 0.11911844 0.12023575\n",
            " 0.12095426 0.12140021 0.12174293 0.12208961 0.12248407 0.12293167\n",
            " 0.12342118 0.12393723 0.12446577 0.12499573 0.12551898 0.12603006\n",
            " 0.12652571 0.12700458 0.12746677 0.12791365 0.12834731 0.12877046\n",
            " 0.12918593 0.12959661 0.13000511 0.13041362]\n",
            "23 day output [[0.13082398]]\n",
            "24 day input [0.08228714 0.08872307 0.08443652 0.09222803 0.08636608 0.092399\n",
            " 0.09156856 0.09322945 0.08900396 0.08995652 0.08614626 0.09195936\n",
            " 0.09293635 0.09213033 0.09015192 0.08990767 0.08497387 0.08761174\n",
            " 0.07615651 0.07676713 0.0807728  0.08192077 0.07371403 0.0714181\n",
            " 0.06374872 0.06912217 0.07517952 0.0722974  0.06882908 0.06843828\n",
            " 0.07483758 0.07024571 0.07432465 0.07383616 0.07371403 0.06987934\n",
            " 0.06824288 0.06743686 0.069342   0.06562943 0.07136925 0.07139368\n",
            " 0.07344536 0.07439793 0.0719066  0.07493527 0.08258024 0.08052855\n",
            " 0.08177422 0.08577988 0.08253139 0.08702555 0.09112891 0.09044502\n",
            " 0.0897367  0.08900396 0.0930829  0.09686874 0.0984075  0.09916467\n",
            " 0.10573494 0.11076645 0.11699477 0.11374628 0.11831371 0.1168238\n",
            " 0.11960823 0.12818133 0.12654487 0.12144009 0.11181672 0.12085389\n",
            " 0.11902203 0.1224415  0.12674027 0.11911844 0.12023575 0.12095426\n",
            " 0.12140021 0.12174293 0.12208961 0.12248407 0.12293167 0.12342118\n",
            " 0.12393723 0.12446577 0.12499573 0.12551898 0.12603006 0.12652571\n",
            " 0.12700458 0.12746677 0.12791365 0.12834731 0.12877046 0.12918593\n",
            " 0.12959661 0.13000511 0.13041362 0.13082398]\n",
            "24 day output [[0.13123748]]\n",
            "25 day input [0.08872307 0.08443652 0.09222803 0.08636608 0.092399   0.09156856\n",
            " 0.09322945 0.08900396 0.08995652 0.08614626 0.09195936 0.09293635\n",
            " 0.09213033 0.09015192 0.08990767 0.08497387 0.08761174 0.07615651\n",
            " 0.07676713 0.0807728  0.08192077 0.07371403 0.0714181  0.06374872\n",
            " 0.06912217 0.07517952 0.0722974  0.06882908 0.06843828 0.07483758\n",
            " 0.07024571 0.07432465 0.07383616 0.07371403 0.06987934 0.06824288\n",
            " 0.06743686 0.069342   0.06562943 0.07136925 0.07139368 0.07344536\n",
            " 0.07439793 0.0719066  0.07493527 0.08258024 0.08052855 0.08177422\n",
            " 0.08577988 0.08253139 0.08702555 0.09112891 0.09044502 0.0897367\n",
            " 0.08900396 0.0930829  0.09686874 0.0984075  0.09916467 0.10573494\n",
            " 0.11076645 0.11699477 0.11374628 0.11831371 0.1168238  0.11960823\n",
            " 0.12818133 0.12654487 0.12144009 0.11181672 0.12085389 0.11902203\n",
            " 0.1224415  0.12674027 0.11911844 0.12023575 0.12095426 0.12140021\n",
            " 0.12174293 0.12208961 0.12248407 0.12293167 0.12342118 0.12393723\n",
            " 0.12446577 0.12499573 0.12551898 0.12603006 0.12652571 0.12700458\n",
            " 0.12746677 0.12791365 0.12834731 0.12877046 0.12918593 0.12959661\n",
            " 0.13000511 0.13041362 0.13082398 0.13123748]\n",
            "25 day output [[0.13165489]]\n",
            "26 day input [0.08443652 0.09222803 0.08636608 0.092399   0.09156856 0.09322945\n",
            " 0.08900396 0.08995652 0.08614626 0.09195936 0.09293635 0.09213033\n",
            " 0.09015192 0.08990767 0.08497387 0.08761174 0.07615651 0.07676713\n",
            " 0.0807728  0.08192077 0.07371403 0.0714181  0.06374872 0.06912217\n",
            " 0.07517952 0.0722974  0.06882908 0.06843828 0.07483758 0.07024571\n",
            " 0.07432465 0.07383616 0.07371403 0.06987934 0.06824288 0.06743686\n",
            " 0.069342   0.06562943 0.07136925 0.07139368 0.07344536 0.07439793\n",
            " 0.0719066  0.07493527 0.08258024 0.08052855 0.08177422 0.08577988\n",
            " 0.08253139 0.08702555 0.09112891 0.09044502 0.0897367  0.08900396\n",
            " 0.0930829  0.09686874 0.0984075  0.09916467 0.10573494 0.11076645\n",
            " 0.11699477 0.11374628 0.11831371 0.1168238  0.11960823 0.12818133\n",
            " 0.12654487 0.12144009 0.11181672 0.12085389 0.11902203 0.1224415\n",
            " 0.12674027 0.11911844 0.12023575 0.12095426 0.12140021 0.12174293\n",
            " 0.12208961 0.12248407 0.12293167 0.12342118 0.12393723 0.12446577\n",
            " 0.12499573 0.12551898 0.12603006 0.12652571 0.12700458 0.12746677\n",
            " 0.12791365 0.12834731 0.12877046 0.12918593 0.12959661 0.13000511\n",
            " 0.13041362 0.13082398 0.13123748 0.13165489]\n",
            "26 day output [[0.1320766]]\n",
            "27 day input [0.09222803 0.08636608 0.092399   0.09156856 0.09322945 0.08900396\n",
            " 0.08995652 0.08614626 0.09195936 0.09293635 0.09213033 0.09015192\n",
            " 0.08990767 0.08497387 0.08761174 0.07615651 0.07676713 0.0807728\n",
            " 0.08192077 0.07371403 0.0714181  0.06374872 0.06912217 0.07517952\n",
            " 0.0722974  0.06882908 0.06843828 0.07483758 0.07024571 0.07432465\n",
            " 0.07383616 0.07371403 0.06987934 0.06824288 0.06743686 0.069342\n",
            " 0.06562943 0.07136925 0.07139368 0.07344536 0.07439793 0.0719066\n",
            " 0.07493527 0.08258024 0.08052855 0.08177422 0.08577988 0.08253139\n",
            " 0.08702555 0.09112891 0.09044502 0.0897367  0.08900396 0.0930829\n",
            " 0.09686874 0.0984075  0.09916467 0.10573494 0.11076645 0.11699477\n",
            " 0.11374628 0.11831371 0.1168238  0.11960823 0.12818133 0.12654487\n",
            " 0.12144009 0.11181672 0.12085389 0.11902203 0.1224415  0.12674027\n",
            " 0.11911844 0.12023575 0.12095426 0.12140021 0.12174293 0.12208961\n",
            " 0.12248407 0.12293167 0.12342118 0.12393723 0.12446577 0.12499573\n",
            " 0.12551898 0.12603006 0.12652571 0.12700458 0.12746677 0.12791365\n",
            " 0.12834731 0.12877046 0.12918593 0.12959661 0.13000511 0.13041362\n",
            " 0.13082398 0.13123748 0.13165489 0.13207661]\n",
            "27 day output [[0.13250263]]\n",
            "28 day input [0.08636608 0.092399   0.09156856 0.09322945 0.08900396 0.08995652\n",
            " 0.08614626 0.09195936 0.09293635 0.09213033 0.09015192 0.08990767\n",
            " 0.08497387 0.08761174 0.07615651 0.07676713 0.0807728  0.08192077\n",
            " 0.07371403 0.0714181  0.06374872 0.06912217 0.07517952 0.0722974\n",
            " 0.06882908 0.06843828 0.07483758 0.07024571 0.07432465 0.07383616\n",
            " 0.07371403 0.06987934 0.06824288 0.06743686 0.069342   0.06562943\n",
            " 0.07136925 0.07139368 0.07344536 0.07439793 0.0719066  0.07493527\n",
            " 0.08258024 0.08052855 0.08177422 0.08577988 0.08253139 0.08702555\n",
            " 0.09112891 0.09044502 0.0897367  0.08900396 0.0930829  0.09686874\n",
            " 0.0984075  0.09916467 0.10573494 0.11076645 0.11699477 0.11374628\n",
            " 0.11831371 0.1168238  0.11960823 0.12818133 0.12654487 0.12144009\n",
            " 0.11181672 0.12085389 0.11902203 0.1224415  0.12674027 0.11911844\n",
            " 0.12023575 0.12095426 0.12140021 0.12174293 0.12208961 0.12248407\n",
            " 0.12293167 0.12342118 0.12393723 0.12446577 0.12499573 0.12551898\n",
            " 0.12603006 0.12652571 0.12700458 0.12746677 0.12791365 0.12834731\n",
            " 0.12877046 0.12918593 0.12959661 0.13000511 0.13041362 0.13082398\n",
            " 0.13123748 0.13165489 0.13207661 0.13250263]\n",
            "28 day output [[0.13293263]]\n",
            "29 day input [0.092399   0.09156856 0.09322945 0.08900396 0.08995652 0.08614626\n",
            " 0.09195936 0.09293635 0.09213033 0.09015192 0.08990767 0.08497387\n",
            " 0.08761174 0.07615651 0.07676713 0.0807728  0.08192077 0.07371403\n",
            " 0.0714181  0.06374872 0.06912217 0.07517952 0.0722974  0.06882908\n",
            " 0.06843828 0.07483758 0.07024571 0.07432465 0.07383616 0.07371403\n",
            " 0.06987934 0.06824288 0.06743686 0.069342   0.06562943 0.07136925\n",
            " 0.07139368 0.07344536 0.07439793 0.0719066  0.07493527 0.08258024\n",
            " 0.08052855 0.08177422 0.08577988 0.08253139 0.08702555 0.09112891\n",
            " 0.09044502 0.0897367  0.08900396 0.0930829  0.09686874 0.0984075\n",
            " 0.09916467 0.10573494 0.11076645 0.11699477 0.11374628 0.11831371\n",
            " 0.1168238  0.11960823 0.12818133 0.12654487 0.12144009 0.11181672\n",
            " 0.12085389 0.11902203 0.1224415  0.12674027 0.11911844 0.12023575\n",
            " 0.12095426 0.12140021 0.12174293 0.12208961 0.12248407 0.12293167\n",
            " 0.12342118 0.12393723 0.12446577 0.12499573 0.12551898 0.12603006\n",
            " 0.12652571 0.12700458 0.12746677 0.12791365 0.12834731 0.12877046\n",
            " 0.12918593 0.12959661 0.13000511 0.13041362 0.13082398 0.13123748\n",
            " 0.13165489 0.13207661 0.13250263 0.13293263]\n",
            "29 day output [[0.1333661]]\n",
            "[[0.12023574858903885], [0.12095426023006439], [0.12140021473169327], [0.12174292653799057], [0.12208960950374603], [0.12248406559228897], [0.12293167412281036], [0.12342117726802826], [0.12393723428249359], [0.12446577101945877], [0.12499573081731796], [0.12551897764205933], [0.1260300576686859], [0.12652571499347687], [0.12700457870960236], [0.12746676802635193], [0.12791365385055542], [0.12834730744361877], [0.12877045571804047], [0.12918592989444733], [0.12959660589694977], [0.1300051063299179], [0.13041362166404724], [0.1308239847421646], [0.1312374770641327], [0.13165488839149475], [0.13207660615444183], [0.13250263035297394], [0.1329326331615448], [0.13336609303951263]]\n"
          ],
          "name": "stdout"
        }
      ]
    },
    {
      "cell_type": "code",
      "metadata": {
        "id": "vPgxBmaVJZnf"
      },
      "source": [
        "day_new = np.arange(1,101)\n",
        "day_pred= np.arange(101,131)"
      ],
      "execution_count": 66,
      "outputs": []
    },
    {
      "cell_type": "code",
      "metadata": {
        "colab": {
          "base_uri": "https://localhost:8080/"
        },
        "id": "aXmcRDT_Lewi",
        "outputId": "c391d5b6-5e06-48b1-b82e-7a4c4c6c4ea6"
      },
      "source": [
        "len(df1)"
      ],
      "execution_count": 67,
      "outputs": [
        {
          "output_type": "execute_result",
          "data": {
            "text/plain": [
              "1259"
            ]
          },
          "metadata": {
            "tags": []
          },
          "execution_count": 67
        }
      ]
    },
    {
      "cell_type": "code",
      "metadata": {
        "colab": {
          "base_uri": "https://localhost:8080/",
          "height": 282
        },
        "id": "zXJyqEhsQOWU",
        "outputId": "eaab1829-7f08-4c50-bf54-7d92a2b0b32f"
      },
      "source": [
        "plt.plot(day_new, scaler.inverse_transform(df1[1159:]))\n",
        "plt.plot(day_pred, scaler.inverse_transform(lst_output))"
      ],
      "execution_count": 68,
      "outputs": [
        {
          "output_type": "execute_result",
          "data": {
            "text/plain": [
              "[<matplotlib.lines.Line2D at 0x7ff88000bc50>]"
            ]
          },
          "metadata": {
            "tags": []
          },
          "execution_count": 68
        },
        {
          "output_type": "display_data",
          "data": {
            "image/png": "[encoded data removed]",
            "text/plain": [
              "<Figure size 432x288 with 1 Axes>"
            ]
          },
          "metadata": {
            "tags": [],
            "needs_background": "light"
          }
        }
      ]
    },
    {
      "cell_type": "code",
      "metadata": {
        "colab": {
          "base_uri": "https://localhost:8080/",
          "height": 282
        },
        "id": "xetu7hbvQl8T",
        "outputId": "71ee648b-0512-4886-89e8-137e04f3ff6f"
      },
      "source": [
        "df3 = df1.tolist()\n",
        "df3.extend(lst_output)\n",
        "plt.plot(df3[1200:])"
      ],
      "execution_count": 69,
      "outputs": [
        {
          "output_type": "execute_result",
          "data": {
            "text/plain": [
              "[<matplotlib.lines.Line2D at 0x7ff82452d650>]"
            ]
          },
          "metadata": {
            "tags": []
          },
          "execution_count": 69
        },
        {
          "output_type": "display_data",
          "data": {
            "image/png": "[encoded data removed]",
            "text/plain": [
              "<Figure size 432x288 with 1 Axes>"
            ]
          },
          "metadata": {
            "tags": [],
            "needs_background": "light"
          }
        }
      ]
    },
    {
      "cell_type": "code",
      "metadata": {
        "id": "BRExyyfHQ0OD"
      },
      "source": [
        ""
      ],
      "execution_count": 70,
      "outputs": []
    },
    {
      "cell_type": "code",
      "metadata": {
        "id": "P7kIeOqPQ-wO"
      },
      "source": [
        ""
      ],
      "execution_count": null,
      "outputs": []
    }
  ]
}